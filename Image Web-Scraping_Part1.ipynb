{
 "cells": [
  {
   "cell_type": "markdown",
   "metadata": {},
   "source": [
    "# <font color = 'Red'>Implementation of Image Web Scraping</font>"
   ]
  },
  {
   "cell_type": "markdown",
   "metadata": {},
   "source": [
    "## <font color = 'Orange'>Scraping With Mask Dataset</font>"
   ]
  },
  {
   "cell_type": "markdown",
   "metadata": {},
   "source": [
    "### <font color = 'Orange'>Step1. Import all required libraries</font>"
   ]
  },
  {
   "cell_type": "code",
   "execution_count": 1,
   "metadata": {},
   "outputs": [],
   "source": [
    "#Import libraries\n",
    "import os\n",
    "import selenium\n",
    "from selenium import webdriver\n",
    "import time\n",
    "from PIL import Image\n",
    "import io\n",
    "import requests\n",
    "from webdriver_manager.chrome import ChromeDriverManager\n",
    "from selenium.common.exceptions import ElementClickInterceptedException"
   ]
  },
  {
   "cell_type": "markdown",
   "metadata": {},
   "source": [
    "### <font color = 'Orange'>Step2. Install Chrome Driver</font>"
   ]
  },
  {
   "cell_type": "code",
   "execution_count": 2,
   "metadata": {},
   "outputs": [
    {
     "name": "stderr",
     "output_type": "stream",
     "text": [
      "\n",
      "\n",
      "====== WebDriver manager ======\n",
      "Current google-chrome version is 91.0.4472\n",
      "Get LATEST driver version for 91.0.4472\n",
      "Driver [C:\\Users\\RANJAN_KESHRI\\.wdm\\drivers\\chromedriver\\win32\\91.0.4472.101\\chromedriver.exe] found in cache\n"
     ]
    }
   ],
   "source": [
    "#Install Driver\n",
    "driver = webdriver.Chrome(ChromeDriverManager().install())"
   ]
  },
  {
   "cell_type": "markdown",
   "metadata": {},
   "source": [
    "### <font color = 'Orange'>Step3. Specify Search url</font>"
   ]
  },
  {
   "cell_type": "code",
   "execution_count": 3,
   "metadata": {},
   "outputs": [],
   "source": [
    "#Specify Search URL\n",
    "search_url = \"https://www.google.com/search?q={q}&tbm=isch&tbs=sur%3Afc&hl=en&ved=0CAIQpwVqFwoTCKCa1c6s4-oCFQAAAAAdAAAAABAC&biw=1251&bih=568\"\n",
    "driver.get(search_url.format(q='wearing mask'))"
   ]
  },
  {
   "cell_type": "markdown",
   "metadata": {},
   "source": [
    "### <font color = 'Orange'>Step4. Scroll to the end of the page</font>"
   ]
  },
  {
   "cell_type": "code",
   "execution_count": 4,
   "metadata": {},
   "outputs": [],
   "source": [
    "#Scroll to the end of the page\n",
    "driver.execute_script(\"window.scrollTo(0, document.body.scrollHeight);\")\n",
    "time.sleep(5)#sleep_between_interactions  \n"
   ]
  },
  {
   "cell_type": "markdown",
   "metadata": {},
   "source": [
    "### <font color = 'Orange'>Step5. Locate the images to be scraped from the page</font>"
   ]
  },
  {
   "cell_type": "code",
   "execution_count": 5,
   "metadata": {},
   "outputs": [],
   "source": [
    "#Locate the images to be scraped from the current page\n",
    "imgResults = driver.find_elements_by_xpath('//img[contains(@class,\"rg_i\") and contains(@class, \"Q4LuWd\")]')\n",
    "totalResults=len(imgResults)"
   ]
  },
  {
   "cell_type": "code",
   "execution_count": 6,
   "metadata": {},
   "outputs": [
    {
     "data": {
      "text/plain": [
       "<selenium.webdriver.remote.webelement.WebElement (session=\"f153878d16028f697e7ad725bdcd9b77\", element=\"48ff74b7-4b79-442b-ae72-5877f9d26dd1\")>"
      ]
     },
     "execution_count": 6,
     "metadata": {},
     "output_type": "execute_result"
    }
   ],
   "source": [
    "imgResults[0]"
   ]
  },
  {
   "cell_type": "markdown",
   "metadata": {},
   "source": [
    "### <font color = 'Orange'>Step6. Extract corresponding link of each Image</font>"
   ]
  },
  {
   "cell_type": "code",
   "execution_count": 7,
   "metadata": {},
   "outputs": [
    {
     "name": "stdout",
     "output_type": "stream",
     "text": [
      "Message: element click intercepted: Element <img src=\"data:image/jpeg;base64,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\" data-deferred=\"1\" class=\"rg_i Q4LuWd\" jsname=\"Q4LuWd\" width=\"221\" height=\"220\" alt=\"File:Bijay Chaurasia wearing mask during covid-19 in Rupani Road 7 km-IMG  5101.jpg - Wikipedia\" data-iml=\"932\" data-atf=\"false\"> is not clickable at point (130, 524). Other element would receive the click: <div jsname=\"r5xl4\" class=\"islrc\" style=\"width: 549px;\">...</div>\n",
      "  (Session info: chrome=91.0.4472.124)\n",
      "\n",
      "Message: element click intercepted: Element <img data-ils=\"4\" jsaction=\"rcuQ6b:trigger.M8vzZb;\" class=\"rg_i Q4LuWd\" jsname=\"Q4LuWd\" width=\"153\" height=\"231\" alt=\"Royalty-Free photo: Person wearing Ghostface mask | PickPik\" src=\"https://encrypted-tbn0.gstatic.com/images?q=tbn:ANd9GcR0Hvye3cvnCZ789lngj1hvbGxQXTFagK-buQ&amp;usqp=CAU\"> is not clickable at point (116, 525). Other element would receive the click: <div jsname=\"r5xl4\" class=\"islrc\" style=\"width: 549px;\">...</div>\n",
      "  (Session info: chrome=91.0.4472.124)\n",
      "\n"
     ]
    }
   ],
   "source": [
    "#Click on each Image to extract its corresponding link to download\n",
    "\n",
    "img_urls = set()\n",
    "for i in  range(0,len(imgResults)):\n",
    "    img=imgResults[i]\n",
    "    try:\n",
    "        img.click()\n",
    "        time.sleep(2)\n",
    "        actual_images = driver.find_elements_by_css_selector('img.n3VNCb')\n",
    "        for actual_image in actual_images:\n",
    "            if actual_image.get_attribute('src') and 'https' in actual_image.get_attribute('src'):\n",
    "                img_urls.add(actual_image.get_attribute('src'))\n",
    "    except ElementClickInterceptedException or ElementNotInteractableException as err:\n",
    "        print(err)"
   ]
  },
  {
   "cell_type": "markdown",
   "metadata": {},
   "source": [
    "### <font color = 'Orange'>Step7. Download & save each image in Destination directory</font>"
   ]
  },
  {
   "cell_type": "code",
   "execution_count": 8,
   "metadata": {},
   "outputs": [
    {
     "data": {
      "text/plain": [
       "'C:\\\\Users\\\\RANJAN_KESHRI\\\\Desktop\\\\MTECH\\\\DL\\\\Projects\\\\Covid19-Face-Mask-detection-main'"
      ]
     },
     "execution_count": 8,
     "metadata": {},
     "output_type": "execute_result"
    }
   ],
   "source": [
    "os.getcwd()"
   ]
  },
  {
   "cell_type": "code",
   "execution_count": 11,
   "metadata": {},
   "outputs": [
    {
     "data": {
      "text/plain": [
       "'C:\\\\Users\\\\RANJAN_KESHRI\\\\Desktop\\\\MTECH\\\\DL\\\\Projects\\\\Covid19-Face-Mask-detection-main\\\\Dataset\\\\mask'"
      ]
     },
     "execution_count": 11,
     "metadata": {},
     "output_type": "execute_result"
    }
   ],
   "source": [
    "os.chdir(r'C://Users//RANJAN_KESHRI//Desktop//MTECH//DL//Projects//Covid19-Face-Mask-detection-main/Dataset/mask')\n",
    "baseDir=os.getcwd()\n",
    "baseDir"
   ]
  },
  {
   "cell_type": "code",
   "execution_count": 15,
   "metadata": {},
   "outputs": [
    {
     "name": "stdout",
     "output_type": "stream",
     "text": [
      "SAVED - https://live.staticflickr.com/65535/50452537607_aaaea2cf5f_b.jpg - AT: C:\\Users\\RANJAN_KESHRI\\Desktop\\MTECH\\DL\\Projects\\Covid19-Face-Mask-detection-main\\Dataset\\mask\\                                                                                                                                                     0.jpg\n",
      "SAVED - https://encrypted-tbn0.gstatic.com/images?q=tbn:ANd9GcTKwSSZah2xkJPW1uXtfzov3is3HqyhvKy5hg&usqp=CAU - AT: C:\\Users\\RANJAN_KESHRI\\Desktop\\MTECH\\DL\\Projects\\Covid19-Face-Mask-detection-main\\Dataset\\mask\\                                                                                                                                                     1.jpg\n",
      "SAVED - https://encrypted-tbn0.gstatic.com/images?q=tbn:ANd9GcQg1-v2HPDfEo7FYMR8gCi0hba1imI8Uw4Xlw&usqp=CAU - AT: C:\\Users\\RANJAN_KESHRI\\Desktop\\MTECH\\DL\\Projects\\Covid19-Face-Mask-detection-main\\Dataset\\mask\\                                                                                                                                                     2.jpg\n",
      "SAVED - https://encrypted-tbn0.gstatic.com/images?q=tbn:ANd9GcSPHzFUma03SVb8ZTcR0OILN1TYFNZC1G7JOw&usqp=CAU - AT: C:\\Users\\RANJAN_KESHRI\\Desktop\\MTECH\\DL\\Projects\\Covid19-Face-Mask-detection-main\\Dataset\\mask\\                                                                                                                                                     3.jpg\n",
      "SAVED - https://upload.wikimedia.org/wikipedia/commons/5/5e/A_nurse_and_a_surgeon%2C_both_wearing_gown_and_mask._Etching_b_Wellcome_L0028811.jpg - AT: C:\\Users\\RANJAN_KESHRI\\Desktop\\MTECH\\DL\\Projects\\Covid19-Face-Mask-detection-main\\Dataset\\mask\\                                                                                                                                                     4.jpg\n",
      "SAVED - https://cdn10.picryl.com/photo/1990/08/21/a-west-german-soldier-wearing-a-nuclear-biological-chemical-nbc-protective-ea04f5-1600.jpg - AT: C:\\Users\\RANJAN_KESHRI\\Desktop\\MTECH\\DL\\Projects\\Covid19-Face-Mask-detection-main\\Dataset\\mask\\                                                                                                                                                     5.jpg\n",
      "SAVED - https://encrypted-tbn0.gstatic.com/images?q=tbn:ANd9GcSu9uvDlwRnsjY4PiuvPmnB-RdGbDbK73a67Q&usqp=CAU - AT: C:\\Users\\RANJAN_KESHRI\\Desktop\\MTECH\\DL\\Projects\\Covid19-Face-Mask-detection-main\\Dataset\\mask\\                                                                                                                                                     6.jpg\n",
      "SAVED - https://encrypted-tbn0.gstatic.com/images?q=tbn:ANd9GcRVqaMrm4ACwY-MK2feSRlYV1cW288LiqRRNg&usqp=CAU - AT: C:\\Users\\RANJAN_KESHRI\\Desktop\\MTECH\\DL\\Projects\\Covid19-Face-Mask-detection-main\\Dataset\\mask\\                                                                                                                                                     7.jpg\n",
      "SAVED - https://cdn.pixabay.com/photo/2020/05/18/04/21/indian-5184436_960_720.jpg - AT: C:\\Users\\RANJAN_KESHRI\\Desktop\\MTECH\\DL\\Projects\\Covid19-Face-Mask-detection-main\\Dataset\\mask\\                                                                                                                                                     8.jpg\n",
      "SAVED - https://p2.pikrepo.com/preview/583/843/man-wearing-mask-sitting-on-top-of-building.jpg - AT: C:\\Users\\RANJAN_KESHRI\\Desktop\\MTECH\\DL\\Projects\\Covid19-Face-Mask-detection-main\\Dataset\\mask\\                                                                                                                                                     9.jpg\n",
      "SAVED - https://encrypted-tbn0.gstatic.com/images?q=tbn:ANd9GcRNORdJykA2doakHOvSnMoyZfRu0i1-dW7n7A&usqp=CAU - AT: C:\\Users\\RANJAN_KESHRI\\Desktop\\MTECH\\DL\\Projects\\Covid19-Face-Mask-detection-main\\Dataset\\mask\\                                                                                                                                                    10.jpg\n",
      "SAVED - https://health.mil/-/media/Images/MHS/Photos/200808FXF9900062_725.ashx?h=407&la=en&mw=720&w=720&hash=7E55C5D2535BE2B622CE3D9B7E1BECB266BDC468BDF41688BF8F9208F6101BBD - AT: C:\\Users\\RANJAN_KESHRI\\Desktop\\MTECH\\DL\\Projects\\Covid19-Face-Mask-detection-main\\Dataset\\mask\\                                                                                                                                                    11.jpg\n",
      "SAVED - https://encrypted-tbn0.gstatic.com/images?q=tbn:ANd9GcQVJBtgnvmk1K4tXHAgT9TMcT4_oHFgHUQyYQ&usqp=CAU - AT: C:\\Users\\RANJAN_KESHRI\\Desktop\\MTECH\\DL\\Projects\\Covid19-Face-Mask-detection-main\\Dataset\\mask\\                                                                                                                                                    12.jpg\n",
      "SAVED - https://encrypted-tbn0.gstatic.com/images?q=tbn:ANd9GcRCN7fgxrR8gOJlUwOTU5-XnfHbYafE3jSS4Q&usqp=CAU - AT: C:\\Users\\RANJAN_KESHRI\\Desktop\\MTECH\\DL\\Projects\\Covid19-Face-Mask-detection-main\\Dataset\\mask\\                                                                                                                                                    13.jpg\n",
      "SAVED - https://encrypted-tbn0.gstatic.com/images?q=tbn:ANd9GcTB5oIv14Vb-s7uOUwE_V3Y7H0Ryc2UgXkRww&usqp=CAU - AT: C:\\Users\\RANJAN_KESHRI\\Desktop\\MTECH\\DL\\Projects\\Covid19-Face-Mask-detection-main\\Dataset\\mask\\                                                                                                                                                    14.jpg\n",
      "SAVED - https://p1.pxfuel.com/preview/622/905/68/lakhe-festival-nepal-religion.jpg - AT: C:\\Users\\RANJAN_KESHRI\\Desktop\\MTECH\\DL\\Projects\\Covid19-Face-Mask-detection-main\\Dataset\\mask\\                                                                                                                                                    15.jpg\n",
      "SAVED - https://encrypted-tbn0.gstatic.com/images?q=tbn:ANd9GcSX50wTww-jXDbLYRa_o2mGcog5uY_s8sfeLw&usqp=CAU - AT: C:\\Users\\RANJAN_KESHRI\\Desktop\\MTECH\\DL\\Projects\\Covid19-Face-Mask-detection-main\\Dataset\\mask\\                                                                                                                                                    16.jpg\n",
      "SAVED - https://p0.piqsels.com/preview/784/396/890/q9boqb9ndnr0au5neq3n7dm4mn.jpg - AT: C:\\Users\\RANJAN_KESHRI\\Desktop\\MTECH\\DL\\Projects\\Covid19-Face-Mask-detection-main\\Dataset\\mask\\                                                                                                                                                    17.jpg\n",
      "SAVED - https://encrypted-tbn0.gstatic.com/images?q=tbn:ANd9GcTk3kNoOAN0AjQd25Q2f0oUQYv6wXlJpQOgnQ&usqp=CAU - AT: C:\\Users\\RANJAN_KESHRI\\Desktop\\MTECH\\DL\\Projects\\Covid19-Face-Mask-detection-main\\Dataset\\mask\\                                                                                                                                                    18.jpg\n",
      "SAVED - https://encrypted-tbn0.gstatic.com/images?q=tbn:ANd9GcRYwCWPvFymdTUBZunOlsbIfrBDIW9ErWTClw&usqp=CAU - AT: C:\\Users\\RANJAN_KESHRI\\Desktop\\MTECH\\DL\\Projects\\Covid19-Face-Mask-detection-main\\Dataset\\mask\\                                                                                                                                                    19.jpg\n",
      "SAVED - https://images.pexels.com/photos/695954/pexels-photo-695954.jpeg?cs=srgb&dl=pexels-janko-ferlic-695954.jpg&fm=jpg - AT: C:\\Users\\RANJAN_KESHRI\\Desktop\\MTECH\\DL\\Projects\\Covid19-Face-Mask-detection-main\\Dataset\\mask\\                                                                                                                                                    20.jpg\n",
      "SAVED - https://encrypted-tbn0.gstatic.com/images?q=tbn:ANd9GcSTc3jNdvaqA7jfY_2w69fypcRV6ONhXB8u0Q&usqp=CAU - AT: C:\\Users\\RANJAN_KESHRI\\Desktop\\MTECH\\DL\\Projects\\Covid19-Face-Mask-detection-main\\Dataset\\mask\\                                                                                                                                                    21.jpg\n",
      "SAVED - https://encrypted-tbn0.gstatic.com/images?q=tbn:ANd9GcRo6tHaz8GWclRLH_mo1HFKP5EmSvceZW6xNg&usqp=CAU - AT: C:\\Users\\RANJAN_KESHRI\\Desktop\\MTECH\\DL\\Projects\\Covid19-Face-Mask-detection-main\\Dataset\\mask\\                                                                                                                                                    22.jpg\n",
      "SAVED - https://encrypted-tbn0.gstatic.com/images?q=tbn:ANd9GcR0Hvye3cvnCZ789lngj1hvbGxQXTFagK-buQ&usqp=CAU - AT: C:\\Users\\RANJAN_KESHRI\\Desktop\\MTECH\\DL\\Projects\\Covid19-Face-Mask-detection-main\\Dataset\\mask\\                                                                                                                                                    23.jpg\n"
     ]
    },
    {
     "name": "stdout",
     "output_type": "stream",
     "text": [
      "SAVED - https://encrypted-tbn0.gstatic.com/images?q=tbn:ANd9GcTdtUNQyOK4JdAgMLkmlelC595n3HxXpZjI9g&usqp=CAU - AT: C:\\Users\\RANJAN_KESHRI\\Desktop\\MTECH\\DL\\Projects\\Covid19-Face-Mask-detection-main\\Dataset\\mask\\                                                                                                                                                    24.jpg\n",
      "SAVED - https://encrypted-tbn0.gstatic.com/images?q=tbn:ANd9GcS2Ip1RCG7W82fjCKIk0bYcdNiXgSbhnAjskQ&usqp=CAU - AT: C:\\Users\\RANJAN_KESHRI\\Desktop\\MTECH\\DL\\Projects\\Covid19-Face-Mask-detection-main\\Dataset\\mask\\                                                                                                                                                    25.jpg\n",
      "SAVED - https://p1.pxfuel.com/preview/471/506/506/gas-mask-press-journalist-violence.jpg - AT: C:\\Users\\RANJAN_KESHRI\\Desktop\\MTECH\\DL\\Projects\\Covid19-Face-Mask-detection-main\\Dataset\\mask\\                                                                                                                                                    26.jpg\n",
      "SAVED - https://encrypted-tbn0.gstatic.com/images?q=tbn:ANd9GcQEESoLBXZRmFWKLFWTk7xjixVIGrzvUCR8Kg&usqp=CAU - AT: C:\\Users\\RANJAN_KESHRI\\Desktop\\MTECH\\DL\\Projects\\Covid19-Face-Mask-detection-main\\Dataset\\mask\\                                                                                                                                                    27.jpg\n",
      "SAVED - https://encrypted-tbn0.gstatic.com/images?q=tbn:ANd9GcQyH6lTOgY-c9Xk7MPksVhhrBIItbWILTtUeQ&usqp=CAU - AT: C:\\Users\\RANJAN_KESHRI\\Desktop\\MTECH\\DL\\Projects\\Covid19-Face-Mask-detection-main\\Dataset\\mask\\                                                                                                                                                    28.jpg\n",
      "SAVED - https://encrypted-tbn0.gstatic.com/images?q=tbn:ANd9GcT2ZoOXo_XfbAysV9M1iC9NMk4H-MO3kTrX0Q&usqp=CAU - AT: C:\\Users\\RANJAN_KESHRI\\Desktop\\MTECH\\DL\\Projects\\Covid19-Face-Mask-detection-main\\Dataset\\mask\\                                                                                                                                                    29.jpg\n",
      "SAVED - https://encrypted-tbn0.gstatic.com/images?q=tbn:ANd9GcQunqzMmA3QW-pdQDR1DOKOfMLopa59FUVydg&usqp=CAU - AT: C:\\Users\\RANJAN_KESHRI\\Desktop\\MTECH\\DL\\Projects\\Covid19-Face-Mask-detection-main\\Dataset\\mask\\                                                                                                                                                    30.jpg\n",
      "SAVED - https://encrypted-tbn0.gstatic.com/images?q=tbn:ANd9GcTOvQ-2lMvZwxJmgD2teDXG6cBWVy2Cxlj1Fw&usqp=CAU - AT: C:\\Users\\RANJAN_KESHRI\\Desktop\\MTECH\\DL\\Projects\\Covid19-Face-Mask-detection-main\\Dataset\\mask\\                                                                                                                                                    31.jpg\n",
      "SAVED - https://medeng.jpl.nasa.gov/covid-19/ventilator/resources/img/respirators/Conforming-respirator-th700.jpg - AT: C:\\Users\\RANJAN_KESHRI\\Desktop\\MTECH\\DL\\Projects\\Covid19-Face-Mask-detection-main\\Dataset\\mask\\                                                                                                                                                    32.jpg\n",
      "ERROR - COULD NOT DOWNLOAD https://upload.wikimedia.org/wikipedia/commons/thumb/e/e8/How_to_wear_a_non-medical_fabric_mask_safely_-_Do%27s_%26_Don%27ts.png/170px-How_to_wear_a_non-medical_fabric_mask_safely_-_Do%27s_%26_Don%27ts.png - ('Connection aborted.', ConnectionResetError(10054, 'An existing connection was forcibly closed by the remote host', None, 10054, None))\n",
      "SAVED - https://upload.wikimedia.org/wikipedia/commons/thumb/e/e8/How_to_wear_a_non-medical_fabric_mask_safely_-_Do%27s_%26_Don%27ts.png/170px-How_to_wear_a_non-medical_fabric_mask_safely_-_Do%27s_%26_Don%27ts.png - AT: C:\\Users\\RANJAN_KESHRI\\Desktop\\MTECH\\DL\\Projects\\Covid19-Face-Mask-detection-main\\Dataset\\mask\\                                                                                                                                                    33.jpg\n",
      "SAVED - https://c1.wallpaperflare.com/preview/197/85/292/chroma-key-greenbox-anonymous-hacker.jpg - AT: C:\\Users\\RANJAN_KESHRI\\Desktop\\MTECH\\DL\\Projects\\Covid19-Face-Mask-detection-main\\Dataset\\mask\\                                                                                                                                                    34.jpg\n",
      "SAVED - https://encrypted-tbn0.gstatic.com/images?q=tbn:ANd9GcQVOXLnG6Mf-UMDnWf398KKO49bnBFQVLuLzw&usqp=CAU - AT: C:\\Users\\RANJAN_KESHRI\\Desktop\\MTECH\\DL\\Projects\\Covid19-Face-Mask-detection-main\\Dataset\\mask\\                                                                                                                                                    35.jpg\n",
      "SAVED - https://media.defense.gov/2020/Nov/05/2002530041/-1/-1/0/201105-F-NB484-1001.JPG - AT: C:\\Users\\RANJAN_KESHRI\\Desktop\\MTECH\\DL\\Projects\\Covid19-Face-Mask-detection-main\\Dataset\\mask\\                                                                                                                                                    36.jpg\n",
      "SAVED - https://www.maxpixel.net/static/photo/1x/Person-Protection-Adult-The-Mask-Woman-Wearing-5059062.jpg - AT: C:\\Users\\RANJAN_KESHRI\\Desktop\\MTECH\\DL\\Projects\\Covid19-Face-Mask-detection-main\\Dataset\\mask\\                                                                                                                                                    37.jpg\n",
      "SAVED - https://encrypted-tbn0.gstatic.com/images?q=tbn:ANd9GcQIQQaSg3igEndW-3BPw4isc_6vJ0j6cL0exw&usqp=CAU - AT: C:\\Users\\RANJAN_KESHRI\\Desktop\\MTECH\\DL\\Projects\\Covid19-Face-Mask-detection-main\\Dataset\\mask\\                                                                                                                                                    38.jpg\n",
      "SAVED - https://p1.pxfuel.com/preview/204/807/726/woman-make-up-mask-expression.jpg - AT: C:\\Users\\RANJAN_KESHRI\\Desktop\\MTECH\\DL\\Projects\\Covid19-Face-Mask-detection-main\\Dataset\\mask\\                                                                                                                                                    39.jpg\n",
      "SAVED - https://upload.wikimedia.org/wikipedia/commons/3/31/Wearing_mask_while_having_fun.jpg - AT: C:\\Users\\RANJAN_KESHRI\\Desktop\\MTECH\\DL\\Projects\\Covid19-Face-Mask-detection-main\\Dataset\\mask\\                                                                                                                                                    40.jpg\n",
      "SAVED - https://live.staticflickr.com/65535/50943582022_fe53ab796c_b.jpg - AT: C:\\Users\\RANJAN_KESHRI\\Desktop\\MTECH\\DL\\Projects\\Covid19-Face-Mask-detection-main\\Dataset\\mask\\                                                                                                                                                    41.jpg\n",
      "SAVED - https://encrypted-tbn0.gstatic.com/images?q=tbn:ANd9GcTdCX7OpZchJgsqJlb4BLUlSjA0VYfmOMiNxg&usqp=CAU - AT: C:\\Users\\RANJAN_KESHRI\\Desktop\\MTECH\\DL\\Projects\\Covid19-Face-Mask-detection-main\\Dataset\\mask\\                                                                                                                                                    42.jpg\n",
      "SAVED - https://encrypted-tbn0.gstatic.com/images?q=tbn:ANd9GcQq3CYiaZNkzI4p6UYHS_Hps7XZgaR0uA2K4g&usqp=CAU - AT: C:\\Users\\RANJAN_KESHRI\\Desktop\\MTECH\\DL\\Projects\\Covid19-Face-Mask-detection-main\\Dataset\\mask\\                                                                                                                                                    43.jpg\n",
      "SAVED - https://encrypted-tbn0.gstatic.com/images?q=tbn:ANd9GcSDq1q3EoczWWC86NoI7DmHOCmyEo14cwaZQg&usqp=CAU - AT: C:\\Users\\RANJAN_KESHRI\\Desktop\\MTECH\\DL\\Projects\\Covid19-Face-Mask-detection-main\\Dataset\\mask\\                                                                                                                                                    44.jpg\n",
      "SAVED - https://encrypted-tbn0.gstatic.com/images?q=tbn:ANd9GcT-9jw_y6fJY2e-Wsdf9raxDhoYSleWwZlq-w&usqp=CAU - AT: C:\\Users\\RANJAN_KESHRI\\Desktop\\MTECH\\DL\\Projects\\Covid19-Face-Mask-detection-main\\Dataset\\mask\\                                                                                                                                                    45.jpg\n"
     ]
    },
    {
     "name": "stdout",
     "output_type": "stream",
     "text": [
      "SAVED - https://c2.peakpx.com/wallpaper/332/237/283/strassenfasnet-fools-jump-wallpaper-preview.jpg - AT: C:\\Users\\RANJAN_KESHRI\\Desktop\\MTECH\\DL\\Projects\\Covid19-Face-Mask-detection-main\\Dataset\\mask\\                                                                                                                                                    46.jpg\n",
      "SAVED - https://media.defense.gov/2021/Feb/17/2002583956/-1/-1/0/200406-D-HN545-2001.JPG - AT: C:\\Users\\RANJAN_KESHRI\\Desktop\\MTECH\\DL\\Projects\\Covid19-Face-Mask-detection-main\\Dataset\\mask\\                                                                                                                                                    47.jpg\n",
      "ERROR - COULD NOT DOWNLOAD https://upload.wikimedia.org/wikipedia/commons/1/14/Wearing_FFP_mask_during_the_COVID-19_pandemic_in_Khmelnytskyi%2C_April_2020.jpg - ('Connection aborted.', ConnectionResetError(10054, 'An existing connection was forcibly closed by the remote host', None, 10054, None))\n",
      "SAVED - https://upload.wikimedia.org/wikipedia/commons/1/14/Wearing_FFP_mask_during_the_COVID-19_pandemic_in_Khmelnytskyi%2C_April_2020.jpg - AT: C:\\Users\\RANJAN_KESHRI\\Desktop\\MTECH\\DL\\Projects\\Covid19-Face-Mask-detection-main\\Dataset\\mask\\                                                                                                                                                    48.jpg\n",
      "SAVED - https://encrypted-tbn0.gstatic.com/images?q=tbn:ANd9GcTrgRIF5BrkyRczXF53x6TMmu8efEFkapEWpQ&usqp=CAU - AT: C:\\Users\\RANJAN_KESHRI\\Desktop\\MTECH\\DL\\Projects\\Covid19-Face-Mask-detection-main\\Dataset\\mask\\                                                                                                                                                    49.jpg\n",
      "SAVED - https://i2.pickpik.com/photos/300/630/330/portrait-women-s-face-human-preview.jpg - AT: C:\\Users\\RANJAN_KESHRI\\Desktop\\MTECH\\DL\\Projects\\Covid19-Face-Mask-detection-main\\Dataset\\mask\\                                                                                                                                                    50.jpg\n",
      "SAVED - https://c0.wallpaperflare.com/preview/370/1024/938/black-jacket-creepy-fire-guy.jpg - AT: C:\\Users\\RANJAN_KESHRI\\Desktop\\MTECH\\DL\\Projects\\Covid19-Face-Mask-detection-main\\Dataset\\mask\\                                                                                                                                                    51.jpg\n",
      "SAVED - https://encrypted-tbn0.gstatic.com/images?q=tbn:ANd9GcRPdy2fpez83NvnZhPtab3MwqDCJMxQ346cyQ&usqp=CAU - AT: C:\\Users\\RANJAN_KESHRI\\Desktop\\MTECH\\DL\\Projects\\Covid19-Face-Mask-detection-main\\Dataset\\mask\\                                                                                                                                                    52.jpg\n",
      "ERROR - COULD NOT DOWNLOAD https://upload.wikimedia.org/wikipedia/commons/0/00/CDC-_purpose_of_wearing_a_face_mask_during_COVID-19_pandemic.jpg - ('Connection aborted.', ConnectionResetError(10054, 'An existing connection was forcibly closed by the remote host', None, 10054, None))\n",
      "SAVED - https://upload.wikimedia.org/wikipedia/commons/0/00/CDC-_purpose_of_wearing_a_face_mask_during_COVID-19_pandemic.jpg - AT: C:\\Users\\RANJAN_KESHRI\\Desktop\\MTECH\\DL\\Projects\\Covid19-Face-Mask-detection-main\\Dataset\\mask\\                                                                                                                                                    53.jpg\n",
      "SAVED - https://cdn10.picryl.com/photo/2011/07/21/s90e5331-sts-090-bds-04-hire-wearing-mask-and-gloves-on-middeck-777658-1600.jpg - AT: C:\\Users\\RANJAN_KESHRI\\Desktop\\MTECH\\DL\\Projects\\Covid19-Face-Mask-detection-main\\Dataset\\mask\\                                                                                                                                                    54.jpg\n",
      "SAVED - https://encrypted-tbn0.gstatic.com/images?q=tbn:ANd9GcSBYvmcxP9FbHZLEijDOmvkLzvipQ-m8bxogw&usqp=CAU - AT: C:\\Users\\RANJAN_KESHRI\\Desktop\\MTECH\\DL\\Projects\\Covid19-Face-Mask-detection-main\\Dataset\\mask\\                                                                                                                                                    55.jpg\n",
      "SAVED - https://p0.piqsels.com/preview/952/266/498/abc-abc-protection-suit-abc-suit-adult.jpg - AT: C:\\Users\\RANJAN_KESHRI\\Desktop\\MTECH\\DL\\Projects\\Covid19-Face-Mask-detection-main\\Dataset\\mask\\                                                                                                                                                    56.jpg\n",
      "SAVED - https://www.health.mil/-/media/Images/MHS/Photos/Blood-Donation_05212020_1000.ashx?h=407&la=en&mw=720&w=720&hash=923512E5313896922EB62621BD40EB462A17BFF09039B89B21473EE691E61328 - AT: C:\\Users\\RANJAN_KESHRI\\Desktop\\MTECH\\DL\\Projects\\Covid19-Face-Mask-detection-main\\Dataset\\mask\\                                                                                                                                                    57.jpg\n",
      "SAVED - https://encrypted-tbn0.gstatic.com/images?q=tbn:ANd9GcT-3XHi0RUWnk1mbTvjs6ZoY462lMhnTpmTTQ&usqp=CAU - AT: C:\\Users\\RANJAN_KESHRI\\Desktop\\MTECH\\DL\\Projects\\Covid19-Face-Mask-detection-main\\Dataset\\mask\\                                                                                                                                                    58.jpg\n",
      "SAVED - https://medeng.jpl.nasa.gov/covid-19/ventilator/resources/img/respirators/image010-th700.jpg - AT: C:\\Users\\RANJAN_KESHRI\\Desktop\\MTECH\\DL\\Projects\\Covid19-Face-Mask-detection-main\\Dataset\\mask\\                                                                                                                                                    59.jpg\n",
      "SAVED - https://encrypted-tbn0.gstatic.com/images?q=tbn:ANd9GcQKiU2NIeadpykqzLHEu9FmBlCi3nbmhQpdeQ&usqp=CAU - AT: C:\\Users\\RANJAN_KESHRI\\Desktop\\MTECH\\DL\\Projects\\Covid19-Face-Mask-detection-main\\Dataset\\mask\\                                                                                                                                                    60.jpg\n",
      "SAVED - https://freesvg.org/img/1591284056man-face-covering-silhouette-freesvg.org.png - AT: C:\\Users\\RANJAN_KESHRI\\Desktop\\MTECH\\DL\\Projects\\Covid19-Face-Mask-detection-main\\Dataset\\mask\\                                                                                                                                                    61.jpg\n",
      "SAVED - https://p2.pikrepo.com/preview/12/646/girl-wearing-white-full-face-mask.jpg - AT: C:\\Users\\RANJAN_KESHRI\\Desktop\\MTECH\\DL\\Projects\\Covid19-Face-Mask-detection-main\\Dataset\\mask\\                                                                                                                                                    62.jpg\n",
      "SAVED - https://encrypted-tbn0.gstatic.com/images?q=tbn:ANd9GcR8ZomoUfqvFdSY8kTUZSeU2xvSqJJZjM_wlA&usqp=CAU - AT: C:\\Users\\RANJAN_KESHRI\\Desktop\\MTECH\\DL\\Projects\\Covid19-Face-Mask-detection-main\\Dataset\\mask\\                                                                                                                                                    63.jpg\n",
      "SAVED - https://live.staticflickr.com/65535/50979001927_f082467966_b.jpg - AT: C:\\Users\\RANJAN_KESHRI\\Desktop\\MTECH\\DL\\Projects\\Covid19-Face-Mask-detection-main\\Dataset\\mask\\                                                                                                                                                    64.jpg\n",
      "SAVED - https://medeng.jpl.nasa.gov/covid-19/ventilator/resources/img/respirators/Woman_with-Conforming-Respirator-th700.jpg - AT: C:\\Users\\RANJAN_KESHRI\\Desktop\\MTECH\\DL\\Projects\\Covid19-Face-Mask-detection-main\\Dataset\\mask\\                                                                                                                                                    65.jpg\n",
      "ERROR - COULD NOT SAVE https://www.publicdomainpictures.net/pictures/360000/velka/woman-wearing-face-mask.jpg - cannot identify image file <_io.BytesIO object at 0x00000000088A8F40>\n",
      "SAVED - https://encrypted-tbn0.gstatic.com/images?q=tbn:ANd9GcRgTU3odQJDwpR0IpQHvonJsAue087lpKPNgw&usqp=CAU - AT: C:\\Users\\RANJAN_KESHRI\\Desktop\\MTECH\\DL\\Projects\\Covid19-Face-Mask-detection-main\\Dataset\\mask\\                                                                                                                                                    67.jpg\n"
     ]
    },
    {
     "name": "stdout",
     "output_type": "stream",
     "text": [
      "SAVED - https://cdn.pixabay.com/photo/2020/03/30/04/35/girl-wearing-a-mask-4983019_960_720.jpg - AT: C:\\Users\\RANJAN_KESHRI\\Desktop\\MTECH\\DL\\Projects\\Covid19-Face-Mask-detection-main\\Dataset\\mask\\                                                                                                                                                    68.jpg\n",
      "SAVED - https://live.staticflickr.com/65535/49567347386_963514003e_b.jpg - AT: C:\\Users\\RANJAN_KESHRI\\Desktop\\MTECH\\DL\\Projects\\Covid19-Face-Mask-detection-main\\Dataset\\mask\\                                                                                                                                                    69.jpg\n",
      "SAVED - https://c0.wallpaperflare.com/preview/564/422/335/selective-focus-photography-of-man-wearing-mask-and-shirt-at-night.jpg - AT: C:\\Users\\RANJAN_KESHRI\\Desktop\\MTECH\\DL\\Projects\\Covid19-Face-Mask-detection-main\\Dataset\\mask\\                                                                                                                                                    70.jpg\n",
      "SAVED - https://encrypted-tbn0.gstatic.com/images?q=tbn:ANd9GcSFOvLvV8MiSd_7YnmuFpvF3r1kQTXDcRkegQ&usqp=CAU - AT: C:\\Users\\RANJAN_KESHRI\\Desktop\\MTECH\\DL\\Projects\\Covid19-Face-Mask-detection-main\\Dataset\\mask\\                                                                                                                                                    71.jpg\n",
      "SAVED - https://p1.pxfuel.com/preview/715/284/961/carnival-the-witch-mask-colorful.jpg - AT: C:\\Users\\RANJAN_KESHRI\\Desktop\\MTECH\\DL\\Projects\\Covid19-Face-Mask-detection-main\\Dataset\\mask\\                                                                                                                                                    72.jpg\n",
      "SAVED - https://encrypted-tbn0.gstatic.com/images?q=tbn:ANd9GcT-qNqZC6CUnIjPXdhHIToil7kknCeyClvRqg&usqp=CAU - AT: C:\\Users\\RANJAN_KESHRI\\Desktop\\MTECH\\DL\\Projects\\Covid19-Face-Mask-detection-main\\Dataset\\mask\\                                                                                                                                                    73.jpg\n",
      "SAVED - https://p0.pikist.com/photos/265/470/face-mask-woman-healthcare-hospital-coronavirus-epidemic-medical-virus-people-thumbnail.jpg - AT: C:\\Users\\RANJAN_KESHRI\\Desktop\\MTECH\\DL\\Projects\\Covid19-Face-Mask-detection-main\\Dataset\\mask\\                                                                                                                                                    74.jpg\n",
      "SAVED - https://p1.pikrepo.com/preview/495/962/two-children-wearing-surgical-masks-thumbnail.jpg - AT: C:\\Users\\RANJAN_KESHRI\\Desktop\\MTECH\\DL\\Projects\\Covid19-Face-Mask-detection-main\\Dataset\\mask\\                                                                                                                                                    75.jpg\n",
      "SAVED - https://encrypted-tbn0.gstatic.com/images?q=tbn:ANd9GcQiNzuKz8LDPMIF5ZGQSFnCi81sdXypcomLTg&usqp=CAU - AT: C:\\Users\\RANJAN_KESHRI\\Desktop\\MTECH\\DL\\Projects\\Covid19-Face-Mask-detection-main\\Dataset\\mask\\                                                                                                                                                    76.jpg\n",
      "SAVED - https://c1.wallpaperflare.com/preview/801/195/625/anonymous-mask-bogot%C3%A1-protest.jpg - AT: C:\\Users\\RANJAN_KESHRI\\Desktop\\MTECH\\DL\\Projects\\Covid19-Face-Mask-detection-main\\Dataset\\mask\\                                                                                                                                                    77.jpg\n",
      "SAVED - https://cdn.pixabay.com/photo/2020/09/18/16/12/corona-5582253_960_720.jpg - AT: C:\\Users\\RANJAN_KESHRI\\Desktop\\MTECH\\DL\\Projects\\Covid19-Face-Mask-detection-main\\Dataset\\mask\\                                                                                                                                                    78.jpg\n",
      "SAVED - https://encrypted-tbn0.gstatic.com/images?q=tbn:ANd9GcTkPjnAKjMMBgWpPFIerAU6aIsba3mE4eyTWg&usqp=CAU - AT: C:\\Users\\RANJAN_KESHRI\\Desktop\\MTECH\\DL\\Projects\\Covid19-Face-Mask-detection-main\\Dataset\\mask\\                                                                                                                                                    79.jpg\n",
      "SAVED - https://live.staticflickr.com/65535/49561159006_ccab068c9f_b.jpg - AT: C:\\Users\\RANJAN_KESHRI\\Desktop\\MTECH\\DL\\Projects\\Covid19-Face-Mask-detection-main\\Dataset\\mask\\                                                                                                                                                    80.jpg\n",
      "SAVED - https://cdn10.picryl.com/photo/1996/06/18/a-left-side-view-of-1st-lt-jim-burmeister-wearing-the-new-vest-mask-and-modified-088f2b-1600.jpg - AT: C:\\Users\\RANJAN_KESHRI\\Desktop\\MTECH\\DL\\Projects\\Covid19-Face-Mask-detection-main\\Dataset\\mask\\                                                                                                                                                    81.jpg\n",
      "SAVED - https://encrypted-tbn0.gstatic.com/images?q=tbn:ANd9GcTQk_mbgp_35_PexrTI8wVTLyJxWrmrqPG1cg&usqp=CAU - AT: C:\\Users\\RANJAN_KESHRI\\Desktop\\MTECH\\DL\\Projects\\Covid19-Face-Mask-detection-main\\Dataset\\mask\\                                                                                                                                                    82.jpg\n",
      "ERROR - COULD NOT SAVE https://www.publicdomainpictures.net/pictures/370000/velka/mannequin-wearing-face-mask.jpg - cannot identify image file <_io.BytesIO object at 0x00000000088A8F40>\n",
      "SAVED - https://encrypted-tbn0.gstatic.com/images?q=tbn:ANd9GcTHTH_D_tqCTtW00GeWKKRiqnKdjYYU-q5YcQ&usqp=CAU - AT: C:\\Users\\RANJAN_KESHRI\\Desktop\\MTECH\\DL\\Projects\\Covid19-Face-Mask-detection-main\\Dataset\\mask\\                                                                                                                                                    84.jpg\n",
      "SAVED - https://encrypted-tbn0.gstatic.com/images?q=tbn:ANd9GcRPRge3TOz0SiXwVyeSGfUh-EDqyD1TV8ct_A&usqp=CAU - AT: C:\\Users\\RANJAN_KESHRI\\Desktop\\MTECH\\DL\\Projects\\Covid19-Face-Mask-detection-main\\Dataset\\mask\\                                                                                                                                                    85.jpg\n",
      "SAVED - https://encrypted-tbn0.gstatic.com/images?q=tbn:ANd9GcRYNNlyJ_iAzhv5XCWb93PLpJjWlt2zboNXsQ&usqp=CAU - AT: C:\\Users\\RANJAN_KESHRI\\Desktop\\MTECH\\DL\\Projects\\Covid19-Face-Mask-detection-main\\Dataset\\mask\\                                                                                                                                                    86.jpg\n",
      "SAVED - https://encrypted-tbn0.gstatic.com/images?q=tbn:ANd9GcTMBfTjCmnpvcPKz02DBMsPTMfCHV2ievuGnQ&usqp=CAU - AT: C:\\Users\\RANJAN_KESHRI\\Desktop\\MTECH\\DL\\Projects\\Covid19-Face-Mask-detection-main\\Dataset\\mask\\                                                                                                                                                    87.jpg\n",
      "SAVED - https://encrypted-tbn0.gstatic.com/images?q=tbn:ANd9GcSWKODZxI2TV-56GJLjqwQRcXdGo1oWG9NeNg&usqp=CAU - AT: C:\\Users\\RANJAN_KESHRI\\Desktop\\MTECH\\DL\\Projects\\Covid19-Face-Mask-detection-main\\Dataset\\mask\\                                                                                                                                                    88.jpg\n",
      "SAVED - https://img.rawpixel.com/s3fs-private/rawpixel_images/website_content/fl12657870453-image-kpqoked2.jpg?w=800&dpr=1&fit=default&crop=default&q=65&vib=3&con=3&usm=15&bg=F4F4F3&ixlib=js-2.2.1&s=0e5d9ce6221b9bfa17419ad7054d0233 - AT: C:\\Users\\RANJAN_KESHRI\\Desktop\\MTECH\\DL\\Projects\\Covid19-Face-Mask-detection-main\\Dataset\\mask\\                                                                                                                                                    89.jpg\n",
      "SAVED - https://encrypted-tbn0.gstatic.com/images?q=tbn:ANd9GcRQ_eGucg2j7epJRchGCjBAInhQesUUu92wMQ&usqp=CAU - AT: C:\\Users\\RANJAN_KESHRI\\Desktop\\MTECH\\DL\\Projects\\Covid19-Face-Mask-detection-main\\Dataset\\mask\\                                                                                                                                                    90.jpg\n"
     ]
    },
    {
     "name": "stdout",
     "output_type": "stream",
     "text": [
      "SAVED - https://p1.pikrepo.com/preview/875/954/woman-wearing-grey-turtleneck-long-sleeved-shirt-and-blue-face-mask.jpg - AT: C:\\Users\\RANJAN_KESHRI\\Desktop\\MTECH\\DL\\Projects\\Covid19-Face-Mask-detection-main\\Dataset\\mask\\                                                                                                                                                    91.jpg\n",
      "SAVED - https://encrypted-tbn0.gstatic.com/images?q=tbn:ANd9GcQ4wM_x8xjmsYlMq-Aso-MiQiqk0-deBbwkIw&usqp=CAU - AT: C:\\Users\\RANJAN_KESHRI\\Desktop\\MTECH\\DL\\Projects\\Covid19-Face-Mask-detection-main\\Dataset\\mask\\                                                                                                                                                    92.jpg\n",
      "SAVED - https://encrypted-tbn0.gstatic.com/images?q=tbn:ANd9GcQKgj1kuEQMdJFgy8ox3AOY-P0I4JLy4zzfkA&usqp=CAU - AT: C:\\Users\\RANJAN_KESHRI\\Desktop\\MTECH\\DL\\Projects\\Covid19-Face-Mask-detection-main\\Dataset\\mask\\                                                                                                                                                    93.jpg\n",
      "SAVED - https://live.staticflickr.com/65535/49561395172_35ca8d0b86_b.jpg - AT: C:\\Users\\RANJAN_KESHRI\\Desktop\\MTECH\\DL\\Projects\\Covid19-Face-Mask-detection-main\\Dataset\\mask\\                                                                                                                                                    94.jpg\n",
      "SAVED - https://p2.pikrepo.com/preview/224/185/man-wearing-black-face-mask.jpg - AT: C:\\Users\\RANJAN_KESHRI\\Desktop\\MTECH\\DL\\Projects\\Covid19-Face-Mask-detection-main\\Dataset\\mask\\                                                                                                                                                    95.jpg\n",
      "SAVED - https://encrypted-tbn0.gstatic.com/images?q=tbn:ANd9GcQ0gHUijI9iZ06mL23htpBv6TnibWphfFtb8g&usqp=CAU - AT: C:\\Users\\RANJAN_KESHRI\\Desktop\\MTECH\\DL\\Projects\\Covid19-Face-Mask-detection-main\\Dataset\\mask\\                                                                                                                                                    96.jpg\n",
      "SAVED - https://encrypted-tbn0.gstatic.com/images?q=tbn:ANd9GcQiC1NUTH2z2F-L-6iWv4aVxyTS5AdVbjgHKA&usqp=CAU - AT: C:\\Users\\RANJAN_KESHRI\\Desktop\\MTECH\\DL\\Projects\\Covid19-Face-Mask-detection-main\\Dataset\\mask\\                                                                                                                                                    97.jpg\n",
      "SAVED - https://upload.wikimedia.org/wikipedia/commons/5/5b/How_to_a_wear_medical_mask_safely_-_Don%27ts.png - AT: C:\\Users\\RANJAN_KESHRI\\Desktop\\MTECH\\DL\\Projects\\Covid19-Face-Mask-detection-main\\Dataset\\mask\\                                                                                                                                                    98.jpg\n",
      "SAVED - https://p1.pxfuel.com/preview/30/49/164/mask-costume-performer-carnival-royalty-free-thumbnail.jpg - AT: C:\\Users\\RANJAN_KESHRI\\Desktop\\MTECH\\DL\\Projects\\Covid19-Face-Mask-detection-main\\Dataset\\mask\\                                                                                                                                                    99.jpg\n",
      "SAVED - https://encrypted-tbn0.gstatic.com/images?q=tbn:ANd9GcRaBKUHi_y6ZqLtwp2Ei0728l6B1LboOa-pPg&usqp=CAU - AT: C:\\Users\\RANJAN_KESHRI\\Desktop\\MTECH\\DL\\Projects\\Covid19-Face-Mask-detection-main\\Dataset\\mask\\                                                                                                                                                   100.jpg\n",
      "SAVED - https://encrypted-tbn0.gstatic.com/images?q=tbn:ANd9GcRXC7kjPIMMAHL_D96sTRGdpFR6JDEByYgn2Q&usqp=CAU - AT: C:\\Users\\RANJAN_KESHRI\\Desktop\\MTECH\\DL\\Projects\\Covid19-Face-Mask-detection-main\\Dataset\\mask\\                                                                                                                                                   101.jpg\n",
      "SAVED - https://i1.pickpik.com/photos/501/3/646/596c94ee741da-preview.jpg - AT: C:\\Users\\RANJAN_KESHRI\\Desktop\\MTECH\\DL\\Projects\\Covid19-Face-Mask-detection-main\\Dataset\\mask\\                                                                                                                                                   102.jpg\n",
      "SAVED - https://encrypted-tbn0.gstatic.com/images?q=tbn:ANd9GcQHZz6Ov-H_il_1KwmtAZcMmAz7HOEVHVdVig&usqp=CAU - AT: C:\\Users\\RANJAN_KESHRI\\Desktop\\MTECH\\DL\\Projects\\Covid19-Face-Mask-detection-main\\Dataset\\mask\\                                                                                                                                                   103.jpg\n",
      "SAVED - https://encrypted-tbn0.gstatic.com/images?q=tbn:ANd9GcQPeIc7xqmulzyAb5t_FHf0sgRA7QS_KZjPtQ&usqp=CAU - AT: C:\\Users\\RANJAN_KESHRI\\Desktop\\MTECH\\DL\\Projects\\Covid19-Face-Mask-detection-main\\Dataset\\mask\\                                                                                                                                                   104.jpg\n",
      "SAVED - https://media.defense.gov/2020/Nov/05/2002530040/780/780/0/201105-F-HF074-1001.PNG - AT: C:\\Users\\RANJAN_KESHRI\\Desktop\\MTECH\\DL\\Projects\\Covid19-Face-Mask-detection-main\\Dataset\\mask\\                                                                                                                                                   105.jpg\n",
      "SAVED - https://p0.pikrepo.com/preview/763/873/woman-wearing-face-mask-and-holding-scalpel-knife-thumbnail.jpg - AT: C:\\Users\\RANJAN_KESHRI\\Desktop\\MTECH\\DL\\Projects\\Covid19-Face-Mask-detection-main\\Dataset\\mask\\                                                                                                                                                   106.jpg\n",
      "ERROR - COULD NOT DOWNLOAD https://upload.wikimedia.org/wikipedia/commons/8/8a/WHO_ZH_How_to_wear_medical_mask_safely_DOs_DONTs-combined.jpg - ('Connection aborted.', ConnectionResetError(10054, 'An existing connection was forcibly closed by the remote host', None, 10054, None))\n",
      "SAVED - https://upload.wikimedia.org/wikipedia/commons/8/8a/WHO_ZH_How_to_wear_medical_mask_safely_DOs_DONTs-combined.jpg - AT: C:\\Users\\RANJAN_KESHRI\\Desktop\\MTECH\\DL\\Projects\\Covid19-Face-Mask-detection-main\\Dataset\\mask\\                                                                                                                                                   107.jpg\n",
      "SAVED - https://storage.needpix.com/rsynced_images/surgeon-294383_1280.png - AT: C:\\Users\\RANJAN_KESHRI\\Desktop\\MTECH\\DL\\Projects\\Covid19-Face-Mask-detection-main\\Dataset\\mask\\                                                                                                                                                   108.jpg\n",
      "SAVED - https://encrypted-tbn0.gstatic.com/images?q=tbn:ANd9GcRhL2RAqpje-Uh58uwe_Lxu31FIRMTAwi6y_A&usqp=CAU - AT: C:\\Users\\RANJAN_KESHRI\\Desktop\\MTECH\\DL\\Projects\\Covid19-Face-Mask-detection-main\\Dataset\\mask\\                                                                                                                                                   109.jpg\n",
      "SAVED - https://cdn.pixabay.com/photo/2020/04/10/09/31/masks-5024878_960_720.png - AT: C:\\Users\\RANJAN_KESHRI\\Desktop\\MTECH\\DL\\Projects\\Covid19-Face-Mask-detection-main\\Dataset\\mask\\                                                                                                                                                   110.jpg\n",
      "SAVED - https://encrypted-tbn0.gstatic.com/images?q=tbn:ANd9GcSt9xD9sGIxGCmdFyualaDMYozBnm46XqTbdQ&usqp=CAU - AT: C:\\Users\\RANJAN_KESHRI\\Desktop\\MTECH\\DL\\Projects\\Covid19-Face-Mask-detection-main\\Dataset\\mask\\                                                                                                                                                   111.jpg\n",
      "SAVED - https://www.maxpixel.net/static/photo/1x/The-Mask-Woman-Person-Adult-Protection-Wearing-5059063.jpg - AT: C:\\Users\\RANJAN_KESHRI\\Desktop\\MTECH\\DL\\Projects\\Covid19-Face-Mask-detection-main\\Dataset\\mask\\                                                                                                                                                   112.jpg\n",
      "SAVED - https://encrypted-tbn0.gstatic.com/images?q=tbn:ANd9GcR7Pl9EG_UydvS0G45OiMzOq6Ltp_nmWSpIGg&usqp=CAU - AT: C:\\Users\\RANJAN_KESHRI\\Desktop\\MTECH\\DL\\Projects\\Covid19-Face-Mask-detection-main\\Dataset\\mask\\                                                                                                                                                   113.jpg\n"
     ]
    },
    {
     "name": "stdout",
     "output_type": "stream",
     "text": [
      "SAVED - https://images.pexels.com/photos/4472634/pexels-photo-4472634.jpeg?cs=srgb&dl=pexels-oladimeji-ajegbile-4472634.jpg&fm=jpg - AT: C:\\Users\\RANJAN_KESHRI\\Desktop\\MTECH\\DL\\Projects\\Covid19-Face-Mask-detection-main\\Dataset\\mask\\                                                                                                                                                   114.jpg\n",
      "SAVED - https://p0.pikist.com/photos/125/131/coronavirus-mask-student-boy-guy-young-man-guy-wearing-face-mask-face-mask-flu-mask.jpg - AT: C:\\Users\\RANJAN_KESHRI\\Desktop\\MTECH\\DL\\Projects\\Covid19-Face-Mask-detection-main\\Dataset\\mask\\                                                                                                                                                   115.jpg\n",
      "SAVED - https://media.defense.gov/2021/Jan/28/2002577053/780/780/0/210110-F-YH293-1062.JPG - AT: C:\\Users\\RANJAN_KESHRI\\Desktop\\MTECH\\DL\\Projects\\Covid19-Face-Mask-detection-main\\Dataset\\mask\\                                                                                                                                                   116.jpg\n",
      "SAVED - https://images.pexels.com/photos/3991312/pexels-photo-3991312.jpeg?cs=srgb&dl=pexels-nandhu-kumar-3991312.jpg&fm=jpg - AT: C:\\Users\\RANJAN_KESHRI\\Desktop\\MTECH\\DL\\Projects\\Covid19-Face-Mask-detection-main\\Dataset\\mask\\                                                                                                                                                   117.jpg\n",
      "SAVED - https://encrypted-tbn0.gstatic.com/images?q=tbn:ANd9GcTH8OOmq6Yyz1WluL9sIrf2RkttC_PIWQSUOA&usqp=CAU - AT: C:\\Users\\RANJAN_KESHRI\\Desktop\\MTECH\\DL\\Projects\\Covid19-Face-Mask-detection-main\\Dataset\\mask\\                                                                                                                                                   118.jpg\n",
      "SAVED - https://encrypted-tbn0.gstatic.com/images?q=tbn:ANd9GcS6LAgv55AgRh-C88V7AKDTeWrDYQ8b60la6A&usqp=CAU - AT: C:\\Users\\RANJAN_KESHRI\\Desktop\\MTECH\\DL\\Projects\\Covid19-Face-Mask-detection-main\\Dataset\\mask\\                                                                                                                                                   119.jpg\n",
      "SAVED - https://encrypted-tbn0.gstatic.com/images?q=tbn:ANd9GcSDZxMeRuEZ-vCQoPbMxikvq99cd-kIQyQ5Vg&usqp=CAU - AT: C:\\Users\\RANJAN_KESHRI\\Desktop\\MTECH\\DL\\Projects\\Covid19-Face-Mask-detection-main\\Dataset\\mask\\                                                                                                                                                   120.jpg\n",
      "SAVED - https://encrypted-tbn0.gstatic.com/images?q=tbn:ANd9GcTdZDrmEiOe7H3qqEXexdHmuxwB8EqLg7RG3g&usqp=CAU - AT: C:\\Users\\RANJAN_KESHRI\\Desktop\\MTECH\\DL\\Projects\\Covid19-Face-Mask-detection-main\\Dataset\\mask\\                                                                                                                                                   121.jpg\n",
      "SAVED - https://img.rawpixel.com/s3fs-private/rawpixel_images/website_content/fl49746161236-image-kpwbiq39.jpg?w=800&dpr=1&fit=default&crop=default&q=65&vib=3&con=3&usm=15&bg=F4F4F3&ixlib=js-2.2.1&s=9ea8af06f13a106f2882079ace656837 - AT: C:\\Users\\RANJAN_KESHRI\\Desktop\\MTECH\\DL\\Projects\\Covid19-Face-Mask-detection-main\\Dataset\\mask\\                                                                                                                                                   122.jpg\n",
      "SAVED - https://encrypted-tbn0.gstatic.com/images?q=tbn:ANd9GcSEWC-shx23lpUAlCgPkyHb3L19tvuIzUv84g&usqp=CAU - AT: C:\\Users\\RANJAN_KESHRI\\Desktop\\MTECH\\DL\\Projects\\Covid19-Face-Mask-detection-main\\Dataset\\mask\\                                                                                                                                                   123.jpg\n",
      "SAVED - https://encrypted-tbn0.gstatic.com/images?q=tbn:ANd9GcTjePJis8mhqlBvZvK5DSmlkbtCyXr7k6c6BQ&usqp=CAU - AT: C:\\Users\\RANJAN_KESHRI\\Desktop\\MTECH\\DL\\Projects\\Covid19-Face-Mask-detection-main\\Dataset\\mask\\                                                                                                                                                   124.jpg\n",
      "SAVED - https://encrypted-tbn0.gstatic.com/images?q=tbn:ANd9GcRborcqGdItDumN62Qp60ce8hwisVikVlwwKw&usqp=CAU - AT: C:\\Users\\RANJAN_KESHRI\\Desktop\\MTECH\\DL\\Projects\\Covid19-Face-Mask-detection-main\\Dataset\\mask\\                                                                                                                                                   125.jpg\n",
      "SAVED - https://c1.peakpx.com/wallpaper/889/186/452/carnival-mask-germany-shrovetide-wallpaper-preview.jpg - AT: C:\\Users\\RANJAN_KESHRI\\Desktop\\MTECH\\DL\\Projects\\Covid19-Face-Mask-detection-main\\Dataset\\mask\\                                                                                                                                                   126.jpg\n",
      "SAVED - https://encrypted-tbn0.gstatic.com/images?q=tbn:ANd9GcTZ1sA29OKdcTtW3V9Odo68lD5f-RPTSD4XGQ&usqp=CAU - AT: C:\\Users\\RANJAN_KESHRI\\Desktop\\MTECH\\DL\\Projects\\Covid19-Face-Mask-detection-main\\Dataset\\mask\\                                                                                                                                                   127.jpg\n",
      "SAVED - https://encrypted-tbn0.gstatic.com/images?q=tbn:ANd9GcSncXG0SDFsULjZHgcI_5d5e3BL_SGiU1z6_w&usqp=CAU - AT: C:\\Users\\RANJAN_KESHRI\\Desktop\\MTECH\\DL\\Projects\\Covid19-Face-Mask-detection-main\\Dataset\\mask\\                                                                                                                                                   128.jpg\n",
      "SAVED - https://encrypted-tbn0.gstatic.com/images?q=tbn:ANd9GcRv2XMJYAoY9z5UdvProd4SxlsSqKv-lUuxew&usqp=CAU - AT: C:\\Users\\RANJAN_KESHRI\\Desktop\\MTECH\\DL\\Projects\\Covid19-Face-Mask-detection-main\\Dataset\\mask\\                                                                                                                                                   129.jpg\n",
      "SAVED - https://health.mil/-/media/Images/MHS/Photos/Eppic-Study-2021.ashx?h=407&la=en&mw=720&w=720&hash=55AE01BBAD99ADA7B8849972F942E5F7E4B9C3284B55B2D3A361F2A17BB4041B - AT: C:\\Users\\RANJAN_KESHRI\\Desktop\\MTECH\\DL\\Projects\\Covid19-Face-Mask-detection-main\\Dataset\\mask\\                                                                                                                                                   130.jpg\n",
      "SAVED - https://encrypted-tbn0.gstatic.com/images?q=tbn:ANd9GcS6Nli5NEGII3VG8ixpRrYDb3ewvsIkEBnRxw&usqp=CAU - AT: C:\\Users\\RANJAN_KESHRI\\Desktop\\MTECH\\DL\\Projects\\Covid19-Face-Mask-detection-main\\Dataset\\mask\\                                                                                                                                                   131.jpg\n",
      "SAVED - https://c0.wallpaperflare.com/preview/382/874/352/eyes-facial-expression-fine-looking-man.jpg - AT: C:\\Users\\RANJAN_KESHRI\\Desktop\\MTECH\\DL\\Projects\\Covid19-Face-Mask-detection-main\\Dataset\\mask\\                                                                                                                                                   132.jpg\n",
      "SAVED - https://encrypted-tbn0.gstatic.com/images?q=tbn:ANd9GcTbowDTslpMqXDc-bE3udx3llyaTaxSeOtlyQ&usqp=CAU - AT: C:\\Users\\RANJAN_KESHRI\\Desktop\\MTECH\\DL\\Projects\\Covid19-Face-Mask-detection-main\\Dataset\\mask\\                                                                                                                                                   133.jpg\n",
      "SAVED - https://encrypted-tbn0.gstatic.com/images?q=tbn:ANd9GcR08Dfp95Ucj66ZJN8oKc1j7IJYAXvO1LRjqQ&usqp=CAU - AT: C:\\Users\\RANJAN_KESHRI\\Desktop\\MTECH\\DL\\Projects\\Covid19-Face-Mask-detection-main\\Dataset\\mask\\                                                                                                                                                   134.jpg\n",
      "ERROR - COULD NOT SAVE https://www.publicdomainpictures.net/pictures/320000/velka/woman-wearing-a-surgical-mask.jpg - cannot identify image file <_io.BytesIO object at 0x00000000087E9EA0>\n",
      "SAVED - https://medeng.jpl.nasa.gov/covid-19/ventilator/resources/img/respirators/A6300679-young-girl-wearing-respirator-cr.jpg - AT: C:\\Users\\RANJAN_KESHRI\\Desktop\\MTECH\\DL\\Projects\\Covid19-Face-Mask-detection-main\\Dataset\\mask\\                                                                                                                                                   136.jpg\n",
      "SAVED - https://encrypted-tbn0.gstatic.com/images?q=tbn:ANd9GcTQZfzIhkV_oz6hveXPyrVDNibladbo0m5DAA&usqp=CAU - AT: C:\\Users\\RANJAN_KESHRI\\Desktop\\MTECH\\DL\\Projects\\Covid19-Face-Mask-detection-main\\Dataset\\mask\\                                                                                                                                                   137.jpg\n"
     ]
    },
    {
     "name": "stdout",
     "output_type": "stream",
     "text": [
      "SAVED - https://upload.wikimedia.org/wikipedia/commons/7/70/Venezuelan_protester_wearing_a_Guy_Fawkes_Mask.jpg - AT: C:\\Users\\RANJAN_KESHRI\\Desktop\\MTECH\\DL\\Projects\\Covid19-Face-Mask-detection-main\\Dataset\\mask\\                                                                                                                                                   138.jpg\n",
      "SAVED - https://health.mil/-/media/Images/MHS/Photos/Mental-Health-Media-Roundtable.ashx?h=408&la=en&mw=720&w=720&hash=F644545C03FD6BD5B8700EAA6889A5BF483F2F315B2B044C5F27490A30ABBA20 - AT: C:\\Users\\RANJAN_KESHRI\\Desktop\\MTECH\\DL\\Projects\\Covid19-Face-Mask-detection-main\\Dataset\\mask\\                                                                                                                                                   139.jpg\n",
      "SAVED - https://p0.pikist.com/photos/864/601/teenager-mask-portrait-boy-young-man-guy-boy-wearing-mask-flu-mask-face-mask.jpg - AT: C:\\Users\\RANJAN_KESHRI\\Desktop\\MTECH\\DL\\Projects\\Covid19-Face-Mask-detection-main\\Dataset\\mask\\                                                                                                                                                   140.jpg\n",
      "SAVED - https://images.pexels.com/photos/3985186/pexels-photo-3985186.jpeg?cs=srgb&dl=pexels-gustavo-fring-3985186.jpg&fm=jpg - AT: C:\\Users\\RANJAN_KESHRI\\Desktop\\MTECH\\DL\\Projects\\Covid19-Face-Mask-detection-main\\Dataset\\mask\\                                                                                                                                                   141.jpg\n",
      "SAVED - https://encrypted-tbn0.gstatic.com/images?q=tbn:ANd9GcRHhj3zarfJ9YZSe--6rXNLzxGsjcoXIjar_w&usqp=CAU - AT: C:\\Users\\RANJAN_KESHRI\\Desktop\\MTECH\\DL\\Projects\\Covid19-Face-Mask-detection-main\\Dataset\\mask\\                                                                                                                                                   142.jpg\n",
      "SAVED - https://encrypted-tbn0.gstatic.com/images?q=tbn:ANd9GcQwzXbigo6B-V-zRIOvKXd_MdyRWGSm0z1Meg&usqp=CAU - AT: C:\\Users\\RANJAN_KESHRI\\Desktop\\MTECH\\DL\\Projects\\Covid19-Face-Mask-detection-main\\Dataset\\mask\\                                                                                                                                                   143.jpg\n",
      "SAVED - https://encrypted-tbn0.gstatic.com/images?q=tbn:ANd9GcQcWdDUGjRu89PpoJv-tUtN_Wy9CrhRpmWY8A&usqp=CAU - AT: C:\\Users\\RANJAN_KESHRI\\Desktop\\MTECH\\DL\\Projects\\Covid19-Face-Mask-detection-main\\Dataset\\mask\\                                                                                                                                                   144.jpg\n",
      "SAVED - https://encrypted-tbn0.gstatic.com/images?q=tbn:ANd9GcQUsHEi5Jp-dmGhJdoUoG_t0fi-I8YUVUXKPA&usqp=CAU - AT: C:\\Users\\RANJAN_KESHRI\\Desktop\\MTECH\\DL\\Projects\\Covid19-Face-Mask-detection-main\\Dataset\\mask\\                                                                                                                                                   145.jpg\n",
      "SAVED - https://live.staticflickr.com/65535/50978192153_e68b6db673_b.jpg - AT: C:\\Users\\RANJAN_KESHRI\\Desktop\\MTECH\\DL\\Projects\\Covid19-Face-Mask-detection-main\\Dataset\\mask\\                                                                                                                                                   146.jpg\n",
      "SAVED - https://c1.wallpaperflare.com/preview/5/909/303/demonstrator-portrait-fashion-light.jpg - AT: C:\\Users\\RANJAN_KESHRI\\Desktop\\MTECH\\DL\\Projects\\Covid19-Face-Mask-detection-main\\Dataset\\mask\\                                                                                                                                                   147.jpg\n",
      "SAVED - https://cdn.pixabay.com/photo/2020/07/14/19/12/wearing-a-mandatory-mask-5405387_960_720.png - AT: C:\\Users\\RANJAN_KESHRI\\Desktop\\MTECH\\DL\\Projects\\Covid19-Face-Mask-detection-main\\Dataset\\mask\\                                                                                                                                                   148.jpg\n",
      "SAVED - https://i2.pickpik.com/photos/605/897/100/model-women-s-young-model-fashion-preview.jpg - AT: C:\\Users\\RANJAN_KESHRI\\Desktop\\MTECH\\DL\\Projects\\Covid19-Face-Mask-detection-main\\Dataset\\mask\\                                                                                                                                                   149.jpg\n",
      "SAVED - https://p1.pikrepo.com/preview/493/853/person-wearing-respirator-mask-while-holding-green-smoke-bomb.jpg - AT: C:\\Users\\RANJAN_KESHRI\\Desktop\\MTECH\\DL\\Projects\\Covid19-Face-Mask-detection-main\\Dataset\\mask\\                                                                                                                                                   150.jpg\n",
      "SAVED - https://encrypted-tbn0.gstatic.com/images?q=tbn:ANd9GcSO8YuxIKQ47Xp-vdiyPAgFuA6UV-h-fGdbEA&usqp=CAU - AT: C:\\Users\\RANJAN_KESHRI\\Desktop\\MTECH\\DL\\Projects\\Covid19-Face-Mask-detection-main\\Dataset\\mask\\                                                                                                                                                   151.jpg\n",
      "SAVED - https://encrypted-tbn0.gstatic.com/images?q=tbn:ANd9GcSO4n0TpvZVcI7HbVdovsO10Wx0eC-Iv6_hLw&usqp=CAU - AT: C:\\Users\\RANJAN_KESHRI\\Desktop\\MTECH\\DL\\Projects\\Covid19-Face-Mask-detection-main\\Dataset\\mask\\                                                                                                                                                   152.jpg\n",
      "SAVED - https://c0.wallpaperflare.com/preview/339/282/519/man-wearing-mask-and-eyeglasses.jpg - AT: C:\\Users\\RANJAN_KESHRI\\Desktop\\MTECH\\DL\\Projects\\Covid19-Face-Mask-detection-main\\Dataset\\mask\\                                                                                                                                                   153.jpg\n",
      "SAVED - https://encrypted-tbn0.gstatic.com/images?q=tbn:ANd9GcQLCrG2f08eCtzrid8idH_EudwJXG1HQ32TrA&usqp=CAU - AT: C:\\Users\\RANJAN_KESHRI\\Desktop\\MTECH\\DL\\Projects\\Covid19-Face-Mask-detection-main\\Dataset\\mask\\                                                                                                                                                   154.jpg\n",
      "SAVED - https://c0.wallpaperflare.com/preview/942/910/509/man-wearing-medical-mask-and-robe.jpg - AT: C:\\Users\\RANJAN_KESHRI\\Desktop\\MTECH\\DL\\Projects\\Covid19-Face-Mask-detection-main\\Dataset\\mask\\                                                                                                                                                   155.jpg\n",
      "SAVED - https://encrypted-tbn0.gstatic.com/images?q=tbn:ANd9GcQFp3S07S6xzDlxpbOHnG_dsEFRhPskWyfKkw&usqp=CAU - AT: C:\\Users\\RANJAN_KESHRI\\Desktop\\MTECH\\DL\\Projects\\Covid19-Face-Mask-detection-main\\Dataset\\mask\\                                                                                                                                                   156.jpg\n",
      "SAVED - https://c2.peakpx.com/wallpaper/938/362/340/5k-mask-wood-wallpaper-preview.jpg - AT: C:\\Users\\RANJAN_KESHRI\\Desktop\\MTECH\\DL\\Projects\\Covid19-Face-Mask-detection-main\\Dataset\\mask\\                                                                                                                                                   157.jpg\n",
      "SAVED - https://upload.wikimedia.org/wikipedia/commons/0/09/Apothecary_wearing_a_surgical_mask_%28cropped%29.jpg - AT: C:\\Users\\RANJAN_KESHRI\\Desktop\\MTECH\\DL\\Projects\\Covid19-Face-Mask-detection-main\\Dataset\\mask\\                                                                                                                                                   158.jpg\n",
      "SAVED - https://upload.wikimedia.org/wikipedia/commons/d/dc/How_to_a_wear_medical_mask_safely_-_Do%27s.png - AT: C:\\Users\\RANJAN_KESHRI\\Desktop\\MTECH\\DL\\Projects\\Covid19-Face-Mask-detection-main\\Dataset\\mask\\                                                                                                                                                   159.jpg\n",
      "SAVED - https://encrypted-tbn0.gstatic.com/images?q=tbn:ANd9GcRE2LtL7-BYUOhSo6Uptp87QZoQXXzDdx4iEA&usqp=CAU - AT: C:\\Users\\RANJAN_KESHRI\\Desktop\\MTECH\\DL\\Projects\\Covid19-Face-Mask-detection-main\\Dataset\\mask\\                                                                                                                                                   160.jpg\n"
     ]
    },
    {
     "name": "stdout",
     "output_type": "stream",
     "text": [
      "SAVED - https://live.staticflickr.com/65535/49561385762_f793a2325d_b.jpg - AT: C:\\Users\\RANJAN_KESHRI\\Desktop\\MTECH\\DL\\Projects\\Covid19-Face-Mask-detection-main\\Dataset\\mask\\                                                                                                                                                   161.jpg\n",
      "SAVED - https://encrypted-tbn0.gstatic.com/images?q=tbn:ANd9GcQD5azhK276WWLfN90urYyia-Ukm63Ms8Im5w&usqp=CAU - AT: C:\\Users\\RANJAN_KESHRI\\Desktop\\MTECH\\DL\\Projects\\Covid19-Face-Mask-detection-main\\Dataset\\mask\\                                                                                                                                                   162.jpg\n"
     ]
    }
   ],
   "source": [
    "for i, url in enumerate(img_urls):\n",
    "    file_name = f\"{i:150}.jpg\"    \n",
    "    try:\n",
    "        image_content = requests.get(url).content\n",
    "\n",
    "    except Exception as e:\n",
    "        print(f\"ERROR - COULD NOT DOWNLOAD {url} - {e}\")\n",
    "\n",
    "    try:\n",
    "        image_file = io.BytesIO(image_content)\n",
    "        image = Image.open(image_file).convert('RGB')\n",
    "        \n",
    "        file_path = os.path.join(baseDir, file_name)\n",
    "        \n",
    "        with open(file_path, 'wb') as f:\n",
    "            image.save(f, \"JPEG\", quality=85)\n",
    "        print(f\"SAVED - {url} - AT: {file_path}\")\n",
    "    except Exception as e:\n",
    "        print(f\"ERROR - COULD NOT SAVE {url} - {e}\")"
   ]
  },
  {
   "cell_type": "markdown",
   "metadata": {},
   "source": [
    "## <font color = 'Orange'>Scraping No Mask Dataset</font>"
   ]
  },
  {
   "cell_type": "code",
   "execution_count": 16,
   "metadata": {},
   "outputs": [
    {
     "name": "stderr",
     "output_type": "stream",
     "text": [
      "\n",
      "\n",
      "====== WebDriver manager ======\n",
      "Current google-chrome version is 91.0.4472\n",
      "Get LATEST driver version for 91.0.4472\n",
      "Driver [C:\\Users\\RANJAN_KESHRI\\.wdm\\drivers\\chromedriver\\win32\\91.0.4472.101\\chromedriver.exe] found in cache\n"
     ]
    }
   ],
   "source": [
    "#Install Driver\n",
    "driver = webdriver.Chrome(ChromeDriverManager().install())"
   ]
  },
  {
   "cell_type": "code",
   "execution_count": 17,
   "metadata": {},
   "outputs": [],
   "source": [
    "#Specify Search URL\n",
    "search_url = \"https://www.google.com/search?q=person+images&tbm=isch&ved=2ahUKEwiBhNGa6JTxAhXbLSsKHToXAd4Q2-cCegQIABAA&oq=person+images&gs_lcp=CgNpbWcQAzICCAAyAggAMgIIADICCAAyAggAMgIIADICCAAyAggAMgIIADICCAA6BwgjEOoCECc6BAgjECc6BAgAEEM6BQgAELEDOgcIABCxAxBDUIM1WOFYYLFaaAJwAHgAgAGBAYgB9gmSAQQxMi4ymAEAoAEBqgELZ3dzLXdpei1pbWewAQrAAQE&sclient=img&ei=WhXGYIHvHtvbrAG6roTwDQ&bih=689&biw=1280\"\n",
    "driver.get(search_url.format(q='not wearing mask'))"
   ]
  },
  {
   "cell_type": "code",
   "execution_count": 18,
   "metadata": {},
   "outputs": [],
   "source": [
    "#Scroll to the end of the page\n",
    "driver.execute_script(\"window.scrollTo(0, document.body.scrollHeight);\")\n",
    "time.sleep(5)#sleep_between_interactions  "
   ]
  },
  {
   "cell_type": "code",
   "execution_count": 19,
   "metadata": {},
   "outputs": [],
   "source": [
    "#Locate the images to be scraped from the current page\n",
    "imgResults = driver.find_elements_by_xpath('//img[contains(@class,\"rg_i\") and contains(@class, \"Q4LuWd\")]')\n",
    "totalResults=len(imgResults)"
   ]
  },
  {
   "cell_type": "code",
   "execution_count": 23,
   "metadata": {},
   "outputs": [
    {
     "name": "stdout",
     "output_type": "stream",
     "text": [
      "Message: element click intercepted: Element <img data-ils=\"4\" jsaction=\"rcuQ6b:trigger.M8vzZb;\" class=\"rg_i Q4LuWd\" jsname=\"Q4LuWd\" width=\"161\" height=\"215\" alt=\"400,000+ Best Person Photos · 100% Free Download · Pexels Stock Photos\" src=\"https://encrypted-tbn0.gstatic.com/images?q=tbn:ANd9GcQuYUlQSxjneNqj7QzWiLD58XkK2Mtq8pUtMQ&amp;usqp=CAU\"> is not clickable at point (106, 526). Other element would receive the click: <div jsname=\"r5xl4\" class=\"islrc\" style=\"width: 499px;\">...</div>\n",
      "  (Session info: chrome=91.0.4472.124)\n",
      "\n"
     ]
    }
   ],
   "source": [
    "#Click on each Image to extract its corresponding link to download\n",
    "\n",
    "img_urls = set()\n",
    "for i in  range(0,len(imgResults)):\n",
    "    img=imgResults[i]\n",
    "    try:\n",
    "        img.click()\n",
    "        time.sleep(2)\n",
    "        actual_images = driver.find_elements_by_css_selector('img.n3VNCb')\n",
    "        for actual_image in actual_images:\n",
    "            if actual_image.get_attribute('src') and 'https' in actual_image.get_attribute('src'):\n",
    "                img_urls.add(actual_image.get_attribute('src'))\n",
    "    except ElementClickInterceptedException or ElementNotInteractableException as err:\n",
    "        print(err)"
   ]
  },
  {
   "cell_type": "code",
   "execution_count": 24,
   "metadata": {},
   "outputs": [
    {
     "data": {
      "text/plain": [
       "'C:\\\\Users\\\\RANJAN_KESHRI\\\\Desktop\\\\MTECH\\\\DL\\\\Projects\\\\Covid19-Face-Mask-detection-main\\\\Dataset\\\\nomask'"
      ]
     },
     "execution_count": 24,
     "metadata": {},
     "output_type": "execute_result"
    }
   ],
   "source": [
    "os.chdir(r'C://Users//RANJAN_KESHRI//Desktop//MTECH//DL//Projects//Covid19-Face-Mask-detection-main/Dataset/nomask')\n",
    "baseDir=os.getcwd()\n",
    "baseDir"
   ]
  },
  {
   "cell_type": "code",
   "execution_count": 26,
   "metadata": {},
   "outputs": [
    {
     "name": "stdout",
     "output_type": "stream",
     "text": [
      "SAVED - https://st3.depositphotos.com/9881890/16378/i/600/depositphotos_163785870-stock-photo-blonde-smiling-businesswoman.jpg - AT: C:\\Users\\RANJAN_KESHRI\\Desktop\\MTECH\\DL\\Projects\\Covid19-Face-Mask-detection-main\\Dataset\\nomask\\                                                                                                                                                     0.jpg\n",
      "SAVED - https://encrypted-tbn0.gstatic.com/images?q=tbn:ANd9GcQTynJDIV_Hrt-eXchhQBK0tdq7fpViVi02VA&usqp=CAU - AT: C:\\Users\\RANJAN_KESHRI\\Desktop\\MTECH\\DL\\Projects\\Covid19-Face-Mask-detection-main\\Dataset\\nomask\\                                                                                                                                                     1.jpg\n",
      "SAVED - https://encrypted-tbn0.gstatic.com/images?q=tbn:ANd9GcSJfa758-9Zet25uR43OnWUDxPh_5ivrKWg4g&usqp=CAU - AT: C:\\Users\\RANJAN_KESHRI\\Desktop\\MTECH\\DL\\Projects\\Covid19-Face-Mask-detection-main\\Dataset\\nomask\\                                                                                                                                                     2.jpg\n",
      "SAVED - https://st.adda247.com/https://wpassets.adda247.com/wp-content/uploads/multisite/sites/5/2020/10/11135156/Dr-Jajinii.jpg - AT: C:\\Users\\RANJAN_KESHRI\\Desktop\\MTECH\\DL\\Projects\\Covid19-Face-Mask-detection-main\\Dataset\\nomask\\                                                                                                                                                     3.jpg\n",
      "SAVED - https://api.time.com/wp-content/uploads/2017/12/terry-crews-person-of-year-2017-time-magazine-facebook-1.jpg?quality=85 - AT: C:\\Users\\RANJAN_KESHRI\\Desktop\\MTECH\\DL\\Projects\\Covid19-Face-Mask-detection-main\\Dataset\\nomask\\                                                                                                                                                     4.jpg\n",
      "SAVED - https://www.avert.org/sites/default/files/PLHIV%20Young%20person%20female_0.jpg - AT: C:\\Users\\RANJAN_KESHRI\\Desktop\\MTECH\\DL\\Projects\\Covid19-Face-Mask-detection-main\\Dataset\\nomask\\                                                                                                                                                     5.jpg\n",
      "ERROR - COULD NOT SAVE https://www.publicdomainpictures.net/pictures/270000/velka/avatar-people-person-business-.jpg - cannot identify image file <_io.BytesIO object at 0x0000000008B0D900>\n",
      "SAVED - https://eitrawmaterials.eu/wp-content/uploads/2016/09/person-icon.png - AT: C:\\Users\\RANJAN_KESHRI\\Desktop\\MTECH\\DL\\Projects\\Covid19-Face-Mask-detection-main\\Dataset\\nomask\\                                                                                                                                                     7.jpg\n",
      "SAVED - https://encrypted-tbn0.gstatic.com/images?q=tbn:ANd9GcTRn3ZE_ELxmwpy8TOoL949dSx7kreOV8PG1w&usqp=CAU - AT: C:\\Users\\RANJAN_KESHRI\\Desktop\\MTECH\\DL\\Projects\\Covid19-Face-Mask-detection-main\\Dataset\\nomask\\                                                                                                                                                     8.jpg\n",
      "SAVED - https://encrypted-tbn0.gstatic.com/images?q=tbn:ANd9GcSo11Zte3fuhQvRiKks2mvf7DhP-aXSeu7PZQ&usqp=CAU - AT: C:\\Users\\RANJAN_KESHRI\\Desktop\\MTECH\\DL\\Projects\\Covid19-Face-Mask-detection-main\\Dataset\\nomask\\                                                                                                                                                     9.jpg\n",
      "SAVED - https://encrypted-tbn0.gstatic.com/images?q=tbn:ANd9GcSMeWZkFM4LzBmhRPXmy97tN2lbDXCEpqqn3A&usqp=CAU - AT: C:\\Users\\RANJAN_KESHRI\\Desktop\\MTECH\\DL\\Projects\\Covid19-Face-Mask-detection-main\\Dataset\\nomask\\                                                                                                                                                    10.jpg\n",
      "SAVED - https://miro.medium.com/max/1280/1*gBQxShAkxBp_YPb14CN0Nw.jpeg - AT: C:\\Users\\RANJAN_KESHRI\\Desktop\\MTECH\\DL\\Projects\\Covid19-Face-Mask-detection-main\\Dataset\\nomask\\                                                                                                                                                    11.jpg\n",
      "SAVED - https://encrypted-tbn0.gstatic.com/images?q=tbn:ANd9GcR0rfm7ulLh-hULWlR8NBtrIwRCCWql8VQ9zw&usqp=CAU - AT: C:\\Users\\RANJAN_KESHRI\\Desktop\\MTECH\\DL\\Projects\\Covid19-Face-Mask-detection-main\\Dataset\\nomask\\                                                                                                                                                    12.jpg\n",
      "SAVED - https://encrypted-tbn0.gstatic.com/images?q=tbn:ANd9GcT-Ekc6cjMZv3zEJ6W7qsKAAs5Di3zFIE-usw&usqp=CAU - AT: C:\\Users\\RANJAN_KESHRI\\Desktop\\MTECH\\DL\\Projects\\Covid19-Face-Mask-detection-main\\Dataset\\nomask\\                                                                                                                                                    13.jpg\n",
      "SAVED - https://encrypted-tbn0.gstatic.com/images?q=tbn:ANd9GcQmHba406RK-mGJfIduykKOh-sV396u645BGA&usqp=CAU - AT: C:\\Users\\RANJAN_KESHRI\\Desktop\\MTECH\\DL\\Projects\\Covid19-Face-Mask-detection-main\\Dataset\\nomask\\                                                                                                                                                    14.jpg\n",
      "SAVED - https://image.shutterstock.com/image-photo/closeup-photo-amazing-short-hairdo-260nw-1617540484.jpg - AT: C:\\Users\\RANJAN_KESHRI\\Desktop\\MTECH\\DL\\Projects\\Covid19-Face-Mask-detection-main\\Dataset\\nomask\\                                                                                                                                                    15.jpg\n",
      "SAVED - https://image.shutterstock.com/image-vector/set-different-person-portrait-big-260nw-1736944040.jpg - AT: C:\\Users\\RANJAN_KESHRI\\Desktop\\MTECH\\DL\\Projects\\Covid19-Face-Mask-detection-main\\Dataset\\nomask\\                                                                                                                                                    16.jpg\n",
      "SAVED - https://encrypted-tbn0.gstatic.com/images?q=tbn:ANd9GcRt5HePnhv4TeSL77QtO_9VPU8zYb-gU0scsA&usqp=CAU - AT: C:\\Users\\RANJAN_KESHRI\\Desktop\\MTECH\\DL\\Projects\\Covid19-Face-Mask-detection-main\\Dataset\\nomask\\                                                                                                                                                    17.jpg\n",
      "SAVED - https://www.aconsciousrethink.com/wp-content/uploads/2019/05/reserved-person-line.jpg - AT: C:\\Users\\RANJAN_KESHRI\\Desktop\\MTECH\\DL\\Projects\\Covid19-Face-Mask-detection-main\\Dataset\\nomask\\                                                                                                                                                    18.jpg\n",
      "SAVED - https://encrypted-tbn0.gstatic.com/images?q=tbn:ANd9GcTsSfWISndGO2kARW8GRxbGYGdOXOHQa5nVEQ&usqp=CAU - AT: C:\\Users\\RANJAN_KESHRI\\Desktop\\MTECH\\DL\\Projects\\Covid19-Face-Mask-detection-main\\Dataset\\nomask\\                                                                                                                                                    19.jpg\n",
      "SAVED - https://encrypted-tbn0.gstatic.com/images?q=tbn:ANd9GcSQXZIpf97ZyU1npU2MuY4xqP0u-Kajev5rTQ&usqp=CAU - AT: C:\\Users\\RANJAN_KESHRI\\Desktop\\MTECH\\DL\\Projects\\Covid19-Face-Mask-detection-main\\Dataset\\nomask\\                                                                                                                                                    20.jpg\n",
      "SAVED - https://encrypted-tbn0.gstatic.com/images?q=tbn:ANd9GcQDwnb8KCy8eejkddV5FaKsBcm1uDznQhInOQ&usqp=CAU - AT: C:\\Users\\RANJAN_KESHRI\\Desktop\\MTECH\\DL\\Projects\\Covid19-Face-Mask-detection-main\\Dataset\\nomask\\                                                                                                                                                    21.jpg\n",
      "SAVED - https://encrypted-tbn0.gstatic.com/images?q=tbn:ANd9GcQuYUlQSxjneNqj7QzWiLD58XkK2Mtq8pUtMQ&usqp=CAU - AT: C:\\Users\\RANJAN_KESHRI\\Desktop\\MTECH\\DL\\Projects\\Covid19-Face-Mask-detection-main\\Dataset\\nomask\\                                                                                                                                                    22.jpg\n",
      "SAVED - https://encrypted-tbn0.gstatic.com/images?q=tbn:ANd9GcRJZG-8Pk5VYr_MOP4Ks3uEeZdArTUAizNRwg&usqp=CAU - AT: C:\\Users\\RANJAN_KESHRI\\Desktop\\MTECH\\DL\\Projects\\Covid19-Face-Mask-detection-main\\Dataset\\nomask\\                                                                                                                                                    23.jpg\n"
     ]
    },
    {
     "name": "stdout",
     "output_type": "stream",
     "text": [
      "SAVED - https://encrypted-tbn0.gstatic.com/images?q=tbn:ANd9GcRemgXpPlY7VFpNLDk3FyMuI4MTCKZciprt7Q&usqp=CAU - AT: C:\\Users\\RANJAN_KESHRI\\Desktop\\MTECH\\DL\\Projects\\Covid19-Face-Mask-detection-main\\Dataset\\nomask\\                                                                                                                                                    24.jpg\n",
      "SAVED - https://thumbs.dreamstime.com/b/surprised-female-person-confused-isolated-surprised-female-person-confused-isolated-168304856.jpg - AT: C:\\Users\\RANJAN_KESHRI\\Desktop\\MTECH\\DL\\Projects\\Covid19-Face-Mask-detection-main\\Dataset\\nomask\\                                                                                                                                                    25.jpg\n",
      "SAVED - https://blog.ipleaders.in/wp-content/uploads/2016/10/Fb-dp.jpg - AT: C:\\Users\\RANJAN_KESHRI\\Desktop\\MTECH\\DL\\Projects\\Covid19-Face-Mask-detection-main\\Dataset\\nomask\\                                                                                                                                                    26.jpg\n",
      "SAVED - https://api.time.com/wp-content/uploads/2019/12/time-person-of-the-year-kamala-harris-portrait.jpg - AT: C:\\Users\\RANJAN_KESHRI\\Desktop\\MTECH\\DL\\Projects\\Covid19-Face-Mask-detection-main\\Dataset\\nomask\\                                                                                                                                                    27.jpg\n",
      "SAVED - https://encrypted-tbn0.gstatic.com/images?q=tbn:ANd9GcQgjkw1BzDdD43sQ3Mqe3RFQHQbmh9-hQY2Kw&usqp=CAU - AT: C:\\Users\\RANJAN_KESHRI\\Desktop\\MTECH\\DL\\Projects\\Covid19-Face-Mask-detection-main\\Dataset\\nomask\\                                                                                                                                                    28.jpg\n",
      "SAVED - https://encrypted-tbn0.gstatic.com/images?q=tbn:ANd9GcQOEENPRhiX8WfAIrzvnHXycPqEKJerPZQqcQ&usqp=CAU - AT: C:\\Users\\RANJAN_KESHRI\\Desktop\\MTECH\\DL\\Projects\\Covid19-Face-Mask-detection-main\\Dataset\\nomask\\                                                                                                                                                    29.jpg\n",
      "SAVED - https://encrypted-tbn0.gstatic.com/images?q=tbn:ANd9GcTfGljq6ORXV33gA8dcbfbM6S9NdzMxJYgVPw&usqp=CAU - AT: C:\\Users\\RANJAN_KESHRI\\Desktop\\MTECH\\DL\\Projects\\Covid19-Face-Mask-detection-main\\Dataset\\nomask\\                                                                                                                                                    30.jpg\n",
      "SAVED - https://encrypted-tbn0.gstatic.com/images?q=tbn:ANd9GcR2uv6eQrRVSVHVizzWkjJh_A9VuUhIZJko7Q&usqp=CAU - AT: C:\\Users\\RANJAN_KESHRI\\Desktop\\MTECH\\DL\\Projects\\Covid19-Face-Mask-detection-main\\Dataset\\nomask\\                                                                                                                                                    31.jpg\n",
      "SAVED - https://images.unsplash.com/photo-1525186402429-b4ff38bedec6?ixid=MnwxMjA3fDB8MHxzZWFyY2h8MXx8bmljZSUyMHBlcnNvbnxlbnwwfHwwfHw%3D&ixlib=rb-1.2.1&w=1000&q=80 - AT: C:\\Users\\RANJAN_KESHRI\\Desktop\\MTECH\\DL\\Projects\\Covid19-Face-Mask-detection-main\\Dataset\\nomask\\                                                                                                                                                    32.jpg\n",
      "SAVED - https://encrypted-tbn0.gstatic.com/images?q=tbn:ANd9GcQ0Zo9HM_R3PnPXGdjB6A7R9eN3G6wqVIvQjw&usqp=CAU - AT: C:\\Users\\RANJAN_KESHRI\\Desktop\\MTECH\\DL\\Projects\\Covid19-Face-Mask-detection-main\\Dataset\\nomask\\                                                                                                                                                    33.jpg\n",
      "SAVED - https://enviragallery.com/wp-content/uploads/2019/04/remove-person-from-photo-photoshop.png - AT: C:\\Users\\RANJAN_KESHRI\\Desktop\\MTECH\\DL\\Projects\\Covid19-Face-Mask-detection-main\\Dataset\\nomask\\                                                                                                                                                    34.jpg\n",
      "SAVED - https://encrypted-tbn0.gstatic.com/images?q=tbn:ANd9GcTxBqndnruyT0w2fSLIXKA5p_RReDZsIIGPKQ&usqp=CAU - AT: C:\\Users\\RANJAN_KESHRI\\Desktop\\MTECH\\DL\\Projects\\Covid19-Face-Mask-detection-main\\Dataset\\nomask\\                                                                                                                                                    35.jpg\n",
      "SAVED - https://images.indianexpress.com/2020/02/rude_1200.jpg - AT: C:\\Users\\RANJAN_KESHRI\\Desktop\\MTECH\\DL\\Projects\\Covid19-Face-Mask-detection-main\\Dataset\\nomask\\                                                                                                                                                    36.jpg\n",
      "SAVED - https://akm-img-a-in.tosshub.com/indiatoday/images/story/202012/cover_pic_1200x768.jpeg?99TIWr4srN7tN73bD5i5gkSFVKOoc8Av&size=1200:675 - AT: C:\\Users\\RANJAN_KESHRI\\Desktop\\MTECH\\DL\\Projects\\Covid19-Face-Mask-detection-main\\Dataset\\nomask\\                                                                                                                                                    37.jpg\n",
      "SAVED - https://blogs-images.forbes.com/danschawbel/files/2017/12/Dan-Schawbel_avatar_1512422077-400x400.jpg - AT: C:\\Users\\RANJAN_KESHRI\\Desktop\\MTECH\\DL\\Projects\\Covid19-Face-Mask-detection-main\\Dataset\\nomask\\                                                                                                                                                    38.jpg\n",
      "SAVED - https://www.theglobeandmail.com/resizer/wgr5EMgEXIOcA7rDmsy1uNcjl6E=/1200x0/filters:quality(80)/cloudfront-us-east-1.images.arcpublishing.com/tgam/KCRVJFVYN5DQNOKI5YFY4PGAXE.jpg - AT: C:\\Users\\RANJAN_KESHRI\\Desktop\\MTECH\\DL\\Projects\\Covid19-Face-Mask-detection-main\\Dataset\\nomask\\                                                                                                                                                    39.jpg\n",
      "SAVED - https://encrypted-tbn0.gstatic.com/images?q=tbn:ANd9GcRoKflqx5TkV0T_pKOSHhW7CtTz-5HhFB9HaA&usqp=CAU - AT: C:\\Users\\RANJAN_KESHRI\\Desktop\\MTECH\\DL\\Projects\\Covid19-Face-Mask-detection-main\\Dataset\\nomask\\                                                                                                                                                    40.jpg\n",
      "SAVED - https://encrypted-tbn0.gstatic.com/images?q=tbn:ANd9GcQh5EL875IJTjS_yuc-FYu0hlhjd-ZN5vqYpw&usqp=CAU - AT: C:\\Users\\RANJAN_KESHRI\\Desktop\\MTECH\\DL\\Projects\\Covid19-Face-Mask-detection-main\\Dataset\\nomask\\                                                                                                                                                    41.jpg\n",
      "SAVED - https://cdn-0.idownloadblog.com/wp-content/uploads/2019/07/Add-Person-to-People-Album-Photos-App.jpg - AT: C:\\Users\\RANJAN_KESHRI\\Desktop\\MTECH\\DL\\Projects\\Covid19-Face-Mask-detection-main\\Dataset\\nomask\\                                                                                                                                                    42.jpg\n",
      "SAVED - https://www.freeiconspng.com/thumbs/person-icon/individual-person-icon-filled-individual-to-serve-0.png - AT: C:\\Users\\RANJAN_KESHRI\\Desktop\\MTECH\\DL\\Projects\\Covid19-Face-Mask-detection-main\\Dataset\\nomask\\                                                                                                                                                    43.jpg\n",
      "SAVED - https://encrypted-tbn0.gstatic.com/images?q=tbn:ANd9GcRo-tp5rqp8qvwuWNdpgD_CMwggHF2SIswbUA&usqp=CAU - AT: C:\\Users\\RANJAN_KESHRI\\Desktop\\MTECH\\DL\\Projects\\Covid19-Face-Mask-detection-main\\Dataset\\nomask\\                                                                                                                                                    44.jpg\n",
      "SAVED - https://cdn2.lamag.com/wp-content/uploads/sites/6/2019/06/keanu-reeves-person-of-the-year-karwai-tang-getty.jpg - AT: C:\\Users\\RANJAN_KESHRI\\Desktop\\MTECH\\DL\\Projects\\Covid19-Face-Mask-detection-main\\Dataset\\nomask\\                                                                                                                                                    45.jpg\n",
      "SAVED - https://cdn.pixabay.com/photo/2015/11/20/17/29/person-1053543_960_720.jpg - AT: C:\\Users\\RANJAN_KESHRI\\Desktop\\MTECH\\DL\\Projects\\Covid19-Face-Mask-detection-main\\Dataset\\nomask\\                                                                                                                                                    46.jpg\n"
     ]
    },
    {
     "name": "stdout",
     "output_type": "stream",
     "text": [
      "SAVED - https://static.generated.photos/vue-static/face-generator/landing/wall/20.jpg - AT: C:\\Users\\RANJAN_KESHRI\\Desktop\\MTECH\\DL\\Projects\\Covid19-Face-Mask-detection-main\\Dataset\\nomask\\                                                                                                                                                    47.jpg\n",
      "SAVED - https://lh3.googleusercontent.com/proxy/vxKCgGAO8jxy1k28kBJ4QmOboEn7AjPbgGDNstvpiRPNwwGCy6FJLa2SDfd0UjDFKz8z6ikri2jKsH4dtClRDCW0EeLhqitQb6FOgtDZhlwC8c8KxwI9Trvp6sDCzgv0r6-gOnSje6XDc84 - AT: C:\\Users\\RANJAN_KESHRI\\Desktop\\MTECH\\DL\\Projects\\Covid19-Face-Mask-detection-main\\Dataset\\nomask\\                                                                                                                                                    48.jpg"
     ]
    },
    {
     "name": "stderr",
     "output_type": "stream",
     "text": [
      "C:\\Users\\RANJAN_KESHRI\\anaconda3\\lib\\site-packages\\PIL\\Image.py:960: UserWarning: Palette images with Transparency expressed in bytes should be converted to RGBA images\n",
      "  warnings.warn(\n"
     ]
    },
    {
     "name": "stdout",
     "output_type": "stream",
     "text": [
      "\n",
      "SAVED - https://encrypted-tbn0.gstatic.com/images?q=tbn:ANd9GcTCc2ULjz_BX_a91BvhR-9tXfknyrIDOoFGfQ&usqp=CAU - AT: C:\\Users\\RANJAN_KESHRI\\Desktop\\MTECH\\DL\\Projects\\Covid19-Face-Mask-detection-main\\Dataset\\nomask\\                                                                                                                                                    49.jpg\n",
      "SAVED - https://news.illinois.edu/files/6367/1446774519/178222.jpg - AT: C:\\Users\\RANJAN_KESHRI\\Desktop\\MTECH\\DL\\Projects\\Covid19-Face-Mask-detection-main\\Dataset\\nomask\\                                                                                                                                                    50.jpg\n",
      "SAVED - https://encrypted-tbn0.gstatic.com/images?q=tbn:ANd9GcRmxEVcYXelFAsbImwHv0xmnk7ZBNnMvxfhPA&usqp=CAU - AT: C:\\Users\\RANJAN_KESHRI\\Desktop\\MTECH\\DL\\Projects\\Covid19-Face-Mask-detection-main\\Dataset\\nomask\\                                                                                                                                                    51.jpg\n",
      "SAVED - https://encrypted-tbn0.gstatic.com/images?q=tbn:ANd9GcT1x_1ueYyzVI5MQ8SZMG6iKA7w-EpP_Q6riA&usqp=CAU - AT: C:\\Users\\RANJAN_KESHRI\\Desktop\\MTECH\\DL\\Projects\\Covid19-Face-Mask-detection-main\\Dataset\\nomask\\                                                                                                                                                    52.jpg\n",
      "SAVED - https://encrypted-tbn0.gstatic.com/images?q=tbn:ANd9GcS5eFVJ3NqVULBv4MhkxfWYyOhNxUigGrjSzA&usqp=CAU - AT: C:\\Users\\RANJAN_KESHRI\\Desktop\\MTECH\\DL\\Projects\\Covid19-Face-Mask-detection-main\\Dataset\\nomask\\                                                                                                                                                    53.jpg\n",
      "SAVED - https://encrypted-tbn0.gstatic.com/images?q=tbn:ANd9GcS4a6vo1kElwS4A6xZd0mA9X5yhIPJa_BCtng&usqp=CAU - AT: C:\\Users\\RANJAN_KESHRI\\Desktop\\MTECH\\DL\\Projects\\Covid19-Face-Mask-detection-main\\Dataset\\nomask\\                                                                                                                                                    54.jpg\n",
      "SAVED - https://img.jagranjosh.com/images/2021/February/1522021/One-Person-Company.jpg - AT: C:\\Users\\RANJAN_KESHRI\\Desktop\\MTECH\\DL\\Projects\\Covid19-Face-Mask-detection-main\\Dataset\\nomask\\                                                                                                                                                    55.jpg\n",
      "SAVED - https://encrypted-tbn0.gstatic.com/images?q=tbn:ANd9GcSaQgaXaYGWK0JUno3kXJSIndakOTgtt7rTiA&usqp=CAU - AT: C:\\Users\\RANJAN_KESHRI\\Desktop\\MTECH\\DL\\Projects\\Covid19-Face-Mask-detection-main\\Dataset\\nomask\\                                                                                                                                                    56.jpg\n",
      "SAVED - https://encrypted-tbn0.gstatic.com/images?q=tbn:ANd9GcSH63vWsedJAkCe4GvZ-w148eF2L9v99auiIA&usqp=CAU - AT: C:\\Users\\RANJAN_KESHRI\\Desktop\\MTECH\\DL\\Projects\\Covid19-Face-Mask-detection-main\\Dataset\\nomask\\                                                                                                                                                    57.jpg\n",
      "SAVED - https://encrypted-tbn0.gstatic.com/images?q=tbn:ANd9GcQ3VzQ80AFH0E3KoK7HOA1W9nCbL31p7X8_ZQ&usqp=CAU - AT: C:\\Users\\RANJAN_KESHRI\\Desktop\\MTECH\\DL\\Projects\\Covid19-Face-Mask-detection-main\\Dataset\\nomask\\                                                                                                                                                    58.jpg\n",
      "SAVED - https://cdn.psychologytoday.com/sites/default/files/styles/article-inline-half-caption/public/field_blog_entry_images/2018-09/shutterstock_648907024.jpg?itok=0hb44OrI - AT: C:\\Users\\RANJAN_KESHRI\\Desktop\\MTECH\\DL\\Projects\\Covid19-Face-Mask-detection-main\\Dataset\\nomask\\                                                                                                                                                    59.jpg\n",
      "SAVED - https://encrypted-tbn0.gstatic.com/images?q=tbn:ANd9GcRWZ2sI9ORG5Infvka4QR0z2-Mwcm3KBtjXyw&usqp=CAU - AT: C:\\Users\\RANJAN_KESHRI\\Desktop\\MTECH\\DL\\Projects\\Covid19-Face-Mask-detection-main\\Dataset\\nomask\\                                                                                                                                                    60.jpg\n",
      "SAVED - https://encrypted-tbn0.gstatic.com/images?q=tbn:ANd9GcQDw4qOm9l805aSaZaEi8-8ODu-pYK657PALA&usqp=CAU - AT: C:\\Users\\RANJAN_KESHRI\\Desktop\\MTECH\\DL\\Projects\\Covid19-Face-Mask-detection-main\\Dataset\\nomask\\                                                                                                                                                    61.jpg\n",
      "SAVED - https://image.shutterstock.com/image-vector/group-working-people-diversity-diverse-260nw-589527299.jpg - AT: C:\\Users\\RANJAN_KESHRI\\Desktop\\MTECH\\DL\\Projects\\Covid19-Face-Mask-detection-main\\Dataset\\nomask\\                                                                                                                                                    62.jpg\n",
      "SAVED - https://media.gettyimages.com/photos/using-mobile-phone-picture-id1147785920?s=612x612 - AT: C:\\Users\\RANJAN_KESHRI\\Desktop\\MTECH\\DL\\Projects\\Covid19-Face-Mask-detection-main\\Dataset\\nomask\\                                                                                                                                                    63.jpg\n",
      "SAVED - https://encrypted-tbn0.gstatic.com/images?q=tbn:ANd9GcTnDjnV9iVyqo2ikTER97CUEoUpMStFx0u75g&usqp=CAU - AT: C:\\Users\\RANJAN_KESHRI\\Desktop\\MTECH\\DL\\Projects\\Covid19-Face-Mask-detection-main\\Dataset\\nomask\\                                                                                                                                                    64.jpg\n",
      "SAVED - https://static.toiimg.com/photo/82909777/82909777.jpg?v=3 - AT: C:\\Users\\RANJAN_KESHRI\\Desktop\\MTECH\\DL\\Projects\\Covid19-Face-Mask-detection-main\\Dataset\\nomask\\                                                                                                                                                    65.jpg\n",
      "SAVED - https://encrypted-tbn0.gstatic.com/images?q=tbn:ANd9GcRnph4z8i_5dw2Ggt9JAZAYnBcJir4BeLcU0Q&usqp=CAU - AT: C:\\Users\\RANJAN_KESHRI\\Desktop\\MTECH\\DL\\Projects\\Covid19-Face-Mask-detection-main\\Dataset\\nomask\\                                                                                                                                                    66.jpg\n",
      "SAVED - https://encrypted-tbn0.gstatic.com/images?q=tbn:ANd9GcTIYQx2Gal_DqesM8rz6a2wr2Ot7haSJxBQZw&usqp=CAU - AT: C:\\Users\\RANJAN_KESHRI\\Desktop\\MTECH\\DL\\Projects\\Covid19-Face-Mask-detection-main\\Dataset\\nomask\\                                                                                                                                                    67.jpg\n",
      "SAVED - https://encrypted-tbn0.gstatic.com/images?q=tbn:ANd9GcQi8TBDW57ModHYlAdhqR1uU7Hq5ZVVh-nkFA&usqp=CAU - AT: C:\\Users\\RANJAN_KESHRI\\Desktop\\MTECH\\DL\\Projects\\Covid19-Face-Mask-detection-main\\Dataset\\nomask\\                                                                                                                                                    68.jpg\n",
      "SAVED - https://encrypted-tbn0.gstatic.com/images?q=tbn:ANd9GcSCThi5j1uwZ41zjKSU5_1dg5y1Ss64h4eeOQ&usqp=CAU - AT: C:\\Users\\RANJAN_KESHRI\\Desktop\\MTECH\\DL\\Projects\\Covid19-Face-Mask-detection-main\\Dataset\\nomask\\                                                                                                                                                    69.jpg\n",
      "SAVED - https://encrypted-tbn0.gstatic.com/images?q=tbn:ANd9GcTdqhDxJm20pEDh7rODXDP3MqpZM5UOxxBNJg&usqp=CAU - AT: C:\\Users\\RANJAN_KESHRI\\Desktop\\MTECH\\DL\\Projects\\Covid19-Face-Mask-detection-main\\Dataset\\nomask\\                                                                                                                                                    70.jpg\n",
      "SAVED - https://encrypted-tbn0.gstatic.com/images?q=tbn:ANd9GcR4zdZtNKyyMWikRMnUlg_spli9054uhUoMbw&usqp=CAU - AT: C:\\Users\\RANJAN_KESHRI\\Desktop\\MTECH\\DL\\Projects\\Covid19-Face-Mask-detection-main\\Dataset\\nomask\\                                                                                                                                                    71.jpg\n",
      "SAVED - https://encrypted-tbn0.gstatic.com/images?q=tbn:ANd9GcS_lqqlPnlfvS7BPtsnfpsurdXp_G2ZERoNzw&usqp=CAU - AT: C:\\Users\\RANJAN_KESHRI\\Desktop\\MTECH\\DL\\Projects\\Covid19-Face-Mask-detection-main\\Dataset\\nomask\\                                                                                                                                                    72.jpg\n"
     ]
    },
    {
     "name": "stdout",
     "output_type": "stream",
     "text": [
      "SAVED - https://globalnews.ca/wp-content/uploads/2017/05/oldestmanthumb.jpg?quality=85&strip=all - AT: C:\\Users\\RANJAN_KESHRI\\Desktop\\MTECH\\DL\\Projects\\Covid19-Face-Mask-detection-main\\Dataset\\nomask\\                                                                                                                                                    73.jpg\n",
      "SAVED - https://encrypted-tbn0.gstatic.com/images?q=tbn:ANd9GcRnOj_Nz_Z9MdM0klmEfAkKOUG-p6Xq6YPGbA&usqp=CAU - AT: C:\\Users\\RANJAN_KESHRI\\Desktop\\MTECH\\DL\\Projects\\Covid19-Face-Mask-detection-main\\Dataset\\nomask\\                                                                                                                                                    74.jpg\n",
      "SAVED - https://encrypted-tbn0.gstatic.com/images?q=tbn:ANd9GcQiTjuMocKg0jcLx1Fiar0oodOjIRAnjZ2EWw&usqp=CAU - AT: C:\\Users\\RANJAN_KESHRI\\Desktop\\MTECH\\DL\\Projects\\Covid19-Face-Mask-detection-main\\Dataset\\nomask\\                                                                                                                                                    75.jpg\n",
      "SAVED - https://encrypted-tbn0.gstatic.com/images?q=tbn:ANd9GcSYb1ayCUfvZ-qFKxeI6qnD0_TqtbHdjVNq1A&usqp=CAU - AT: C:\\Users\\RANJAN_KESHRI\\Desktop\\MTECH\\DL\\Projects\\Covid19-Face-Mask-detection-main\\Dataset\\nomask\\                                                                                                                                                    76.jpg\n",
      "SAVED - https://encrypted-tbn0.gstatic.com/images?q=tbn:ANd9GcTdqn__dh721ZfVn2SRw6pugqdBsRKiZ1Ytng&usqp=CAU - AT: C:\\Users\\RANJAN_KESHRI\\Desktop\\MTECH\\DL\\Projects\\Covid19-Face-Mask-detection-main\\Dataset\\nomask\\                                                                                                                                                    77.jpg\n",
      "SAVED - https://cdn.pixabay.com/photo/2015/12/19/21/03/person-1100286_960_720.jpg - AT: C:\\Users\\RANJAN_KESHRI\\Desktop\\MTECH\\DL\\Projects\\Covid19-Face-Mask-detection-main\\Dataset\\nomask\\                                                                                                                                                    78.jpg\n",
      "SAVED - https://img.freepik.com/free-photo/pleased-handsome-businessman-pointing-person-making-good-point-nice-job-praising-employee-saying-well-done_176420-21751.jpg?size=626&ext=jpg&ga=GA1.2.1911438577.1619481600 - AT: C:\\Users\\RANJAN_KESHRI\\Desktop\\MTECH\\DL\\Projects\\Covid19-Face-Mask-detection-main\\Dataset\\nomask\\                                                                                                                                                    79.jpg\n",
      "SAVED - https://encrypted-tbn0.gstatic.com/images?q=tbn:ANd9GcRgTzRW_kO5KwGDfRbMp7vDvch83sk7b78Tiw&usqp=CAU - AT: C:\\Users\\RANJAN_KESHRI\\Desktop\\MTECH\\DL\\Projects\\Covid19-Face-Mask-detection-main\\Dataset\\nomask\\                                                                                                                                                    80.jpg\n",
      "SAVED - https://encrypted-tbn0.gstatic.com/images?q=tbn:ANd9GcQbWceP7eg-psONeXVYx-ZJPN5lKfqkseBcQA&usqp=CAU - AT: C:\\Users\\RANJAN_KESHRI\\Desktop\\MTECH\\DL\\Projects\\Covid19-Face-Mask-detection-main\\Dataset\\nomask\\                                                                                                                                                    81.jpg\n",
      "SAVED - https://encrypted-tbn0.gstatic.com/images?q=tbn:ANd9GcQikgkSiVP98QmireW5lSO8Squ5Ump6busHew&usqp=CAU - AT: C:\\Users\\RANJAN_KESHRI\\Desktop\\MTECH\\DL\\Projects\\Covid19-Face-Mask-detection-main\\Dataset\\nomask\\                                                                                                                                                    82.jpg\n",
      "SAVED - https://encrypted-tbn0.gstatic.com/images?q=tbn:ANd9GcT0XxXKldGMY3Q-yKJtTEoM6YJuIwICHhpysw&usqp=CAU - AT: C:\\Users\\RANJAN_KESHRI\\Desktop\\MTECH\\DL\\Projects\\Covid19-Face-Mask-detection-main\\Dataset\\nomask\\                                                                                                                                                    83.jpg\n",
      "SAVED - https://thumbor.forbes.com/thumbor/fit-in/1200x0/filters%3Aformat%28jpg%29/https%3A%2F%2Fspecials-images.forbesimg.com%2Fimageserve%2F60ab995dbe7dcc922ab5b642%2F0x0.jpg - AT: C:\\Users\\RANJAN_KESHRI\\Desktop\\MTECH\\DL\\Projects\\Covid19-Face-Mask-detection-main\\Dataset\\nomask\\                                                                                                                                                    84.jpg\n",
      "SAVED - https://encrypted-tbn0.gstatic.com/images?q=tbn:ANd9GcT6AdzbS_yxUOC231nVYoFmMoFqLaZNzbSFdg&usqp=CAU - AT: C:\\Users\\RANJAN_KESHRI\\Desktop\\MTECH\\DL\\Projects\\Covid19-Face-Mask-detection-main\\Dataset\\nomask\\                                                                                                                                                    85.jpg\n",
      "SAVED - https://encrypted-tbn0.gstatic.com/images?q=tbn:ANd9GcS7hueF6OrcUfa0fy8vLALaq-cHMG5QBoRIAQ&usqp=CAU - AT: C:\\Users\\RANJAN_KESHRI\\Desktop\\MTECH\\DL\\Projects\\Covid19-Face-Mask-detection-main\\Dataset\\nomask\\                                                                                                                                                    86.jpg\n",
      "SAVED - https://s3-ap-south-1.amazonaws.com/blogmindler/bloglive/wp-content/uploads/2018/02/06144515/Careers-for-People-Persons-770x385.png - AT: C:\\Users\\RANJAN_KESHRI\\Desktop\\MTECH\\DL\\Projects\\Covid19-Face-Mask-detection-main\\Dataset\\nomask\\                                                                                                                                                    87.jpg\n",
      "SAVED - https://www.hueconstruction.co.uk/wp-content/uploads/2016/04/Picture-of-person.png - AT: C:\\Users\\RANJAN_KESHRI\\Desktop\\MTECH\\DL\\Projects\\Covid19-Face-Mask-detection-main\\Dataset\\nomask\\                                                                                                                                                    88.jpg\n",
      "SAVED - https://thispersondoesnotexist.com/image - AT: C:\\Users\\RANJAN_KESHRI\\Desktop\\MTECH\\DL\\Projects\\Covid19-Face-Mask-detection-main\\Dataset\\nomask\\                                                                                                                                                    89.jpg\n",
      "SAVED - https://encrypted-tbn0.gstatic.com/images?q=tbn:ANd9GcQ_IwLURrnwl5oUP-vZJDqB2ZnI85hep7aIuA&usqp=CAU - AT: C:\\Users\\RANJAN_KESHRI\\Desktop\\MTECH\\DL\\Projects\\Covid19-Face-Mask-detection-main\\Dataset\\nomask\\                                                                                                                                                    90.jpg\n",
      "SAVED - https://encrypted-tbn0.gstatic.com/images?q=tbn:ANd9GcQ4rsSzLimlQyniEtUV4-1raljzFhS45QBeAw&usqp=CAU - AT: C:\\Users\\RANJAN_KESHRI\\Desktop\\MTECH\\DL\\Projects\\Covid19-Face-Mask-detection-main\\Dataset\\nomask\\                                                                                                                                                    91.jpg\n",
      "SAVED - https://img.youtube.com/vi/mZtu8HOwcUc/hqdefault.jpg - AT: C:\\Users\\RANJAN_KESHRI\\Desktop\\MTECH\\DL\\Projects\\Covid19-Face-Mask-detection-main\\Dataset\\nomask\\                                                                                                                                                    92.jpg\n",
      "SAVED - https://www.biography.com/.image/ar_8:10%2Cc_fill%2Ccs_srgb%2Cfl_progressive%2Cg_faces:center%2Cq_auto:good%2Cw_620/MTY4MzU0NDMzMjc5NzMxNjcw/julian-castro-sergio-floresbloomberg-via-getty-images-square.jpg - AT: C:\\Users\\RANJAN_KESHRI\\Desktop\\MTECH\\DL\\Projects\\Covid19-Face-Mask-detection-main\\Dataset\\nomask\\                                                                                                                                                    93.jpg\n",
      "SAVED - https://imgix.bustle.com/rehost/2016/9/13/98c6b94f-014a-467a-80b0-0167b9796329.jpg?w=800&fit=crop&crop=faces&auto=format%2Ccompress - AT: C:\\Users\\RANJAN_KESHRI\\Desktop\\MTECH\\DL\\Projects\\Covid19-Face-Mask-detection-main\\Dataset\\nomask\\                                                                                                                                                    94.jpg\n"
     ]
    },
    {
     "name": "stdout",
     "output_type": "stream",
     "text": [
      "SAVED - https://precisionhealth.iu.edu/images/BernicePescosolido.jpg - AT: C:\\Users\\RANJAN_KESHRI\\Desktop\\MTECH\\DL\\Projects\\Covid19-Face-Mask-detection-main\\Dataset\\nomask\\                                                                                                                                                    95.jpg\n",
      "SAVED - https://images.unsplash.com/photo-1544005313-94ddf0286df2?ixid=MnwxMjA3fDB8MHxzZWFyY2h8OXx8cGVyc29ufGVufDB8fDB8fA%3D%3D&ixlib=rb-1.2.1&w=1000&q=80 - AT: C:\\Users\\RANJAN_KESHRI\\Desktop\\MTECH\\DL\\Projects\\Covid19-Face-Mask-detection-main\\Dataset\\nomask\\                                                                                                                                                    96.jpg\n",
      "SAVED - https://nmaahc.si.edu/sites/default/files/styles/featured_image_16x9/public/images/header/audience-citizen_0.jpg?itok=yoGQec7Q - AT: C:\\Users\\RANJAN_KESHRI\\Desktop\\MTECH\\DL\\Projects\\Covid19-Face-Mask-detection-main\\Dataset\\nomask\\                                                                                                                                                    97.jpg\n",
      "SAVED - https://i.insider.com/5c8fcc63dd086147b74dfe03?width=700 - AT: C:\\Users\\RANJAN_KESHRI\\Desktop\\MTECH\\DL\\Projects\\Covid19-Face-Mask-detection-main\\Dataset\\nomask\\                                                                                                                                                    98.jpg\n",
      "SAVED - https://qodebrisbane.com/wp-content/uploads/2019/07/This-is-not-a-person-2-1.jpeg - AT: C:\\Users\\RANJAN_KESHRI\\Desktop\\MTECH\\DL\\Projects\\Covid19-Face-Mask-detection-main\\Dataset\\nomask\\                                                                                                                                                    99.jpg\n",
      "SAVED - https://encrypted-tbn0.gstatic.com/images?q=tbn:ANd9GcTux5B-t_INrppMUz7dVVmmeV_cs79yVb6_iA&usqp=CAU - AT: C:\\Users\\RANJAN_KESHRI\\Desktop\\MTECH\\DL\\Projects\\Covid19-Face-Mask-detection-main\\Dataset\\nomask\\                                                                                                                                                   100.jpg\n",
      "SAVED - https://encrypted-tbn0.gstatic.com/images?q=tbn:ANd9GcTaDVGcq0tFMIhDH3ruqqP-TSkZn-fAp7xhKA&usqp=CAU - AT: C:\\Users\\RANJAN_KESHRI\\Desktop\\MTECH\\DL\\Projects\\Covid19-Face-Mask-detection-main\\Dataset\\nomask\\                                                                                                                                                   101.jpg\n",
      "SAVED - https://encrypted-tbn0.gstatic.com/images?q=tbn:ANd9GcTsyAY09Skz2WsEZjo6YnHKp2AObo7VT4WHbA&usqp=CAU - AT: C:\\Users\\RANJAN_KESHRI\\Desktop\\MTECH\\DL\\Projects\\Covid19-Face-Mask-detection-main\\Dataset\\nomask\\                                                                                                                                                   102.jpg\n",
      "SAVED - https://static.rogerebert.com/uploads/review/primary_image/reviews/third-person-2014/ThirdPerson-2014-1.jpg - AT: C:\\Users\\RANJAN_KESHRI\\Desktop\\MTECH\\DL\\Projects\\Covid19-Face-Mask-detection-main\\Dataset\\nomask\\                                                                                                                                                   103.jpg\n",
      "SAVED - https://encrypted-tbn0.gstatic.com/images?q=tbn:ANd9GcRuWlKVGJeILLo6n3_-9GgvdvWyz7MJbC1o7g&usqp=CAU - AT: C:\\Users\\RANJAN_KESHRI\\Desktop\\MTECH\\DL\\Projects\\Covid19-Face-Mask-detection-main\\Dataset\\nomask\\                                                                                                                                                   104.jpg\n",
      "SAVED - https://i.ytimg.com/vi/7I8OeQs7cQA/maxresdefault.jpg - AT: C:\\Users\\RANJAN_KESHRI\\Desktop\\MTECH\\DL\\Projects\\Covid19-Face-Mask-detection-main\\Dataset\\nomask\\                                                                                                                                                   105.jpg\n",
      "SAVED - https://img.etimg.com/thumb/msid-72141096,width-640,resizemode-4,imgsize-273004/animal-advocacy-efforts.jpg - AT: C:\\Users\\RANJAN_KESHRI\\Desktop\\MTECH\\DL\\Projects\\Covid19-Face-Mask-detection-main\\Dataset\\nomask\\                                                                                                                                                   106.jpg\n",
      "SAVED - https://www.aljazeera.com/wp-content/uploads/2021/05/366420282.jpg?resize=1200,630 - AT: C:\\Users\\RANJAN_KESHRI\\Desktop\\MTECH\\DL\\Projects\\Covid19-Face-Mask-detection-main\\Dataset\\nomask\\                                                                                                                                                   107.jpg\n",
      "SAVED - https://encrypted-tbn0.gstatic.com/images?q=tbn:ANd9GcRCspuKHWboXmD86GCivrV1LbRw6TzS08msFA&usqp=CAU - AT: C:\\Users\\RANJAN_KESHRI\\Desktop\\MTECH\\DL\\Projects\\Covid19-Face-Mask-detection-main\\Dataset\\nomask\\                                                                                                                                                   108.jpg\n",
      "SAVED - https://encrypted-tbn0.gstatic.com/images?q=tbn:ANd9GcR4E6xZZ4J0cvaWjpJacFpX4Mz5-Q14yCLThA&usqp=CAU - AT: C:\\Users\\RANJAN_KESHRI\\Desktop\\MTECH\\DL\\Projects\\Covid19-Face-Mask-detection-main\\Dataset\\nomask\\                                                                                                                                                   109.jpg\n",
      "SAVED - https://cdn.pixabay.com/photo/2015/12/09/04/27/a-single-person-1084191_960_720.jpg - AT: C:\\Users\\RANJAN_KESHRI\\Desktop\\MTECH\\DL\\Projects\\Covid19-Face-Mask-detection-main\\Dataset\\nomask\\                                                                                                                                                   110.jpg\n",
      "SAVED - https://encrypted-tbn0.gstatic.com/images?q=tbn:ANd9GcTeyEzPem4JSvvibkNSJuBK_Vkh6gT4nDE5BQ&usqp=CAU - AT: C:\\Users\\RANJAN_KESHRI\\Desktop\\MTECH\\DL\\Projects\\Covid19-Face-Mask-detection-main\\Dataset\\nomask\\                                                                                                                                                   111.jpg\n",
      "SAVED - https://api.time.com/wp-content/uploads/2017/12/terry-crews-person-of-year-2017-time-magazine-2.jpg - AT: C:\\Users\\RANJAN_KESHRI\\Desktop\\MTECH\\DL\\Projects\\Covid19-Face-Mask-detection-main\\Dataset\\nomask\\                                                                                                                                                   112.jpg\n",
      "SAVED - https://www.helpguide.org/wp-content/uploads/man-arm-around-woman-768.jpg - AT: C:\\Users\\RANJAN_KESHRI\\Desktop\\MTECH\\DL\\Projects\\Covid19-Face-Mask-detection-main\\Dataset\\nomask\\                                                                                                                                                   113.jpg\n",
      "SAVED - https://s3-us-east-2.amazonaws.com/matter-blog/2020/09/People_Person_Cover_Image.png - AT: C:\\Users\\RANJAN_KESHRI\\Desktop\\MTECH\\DL\\Projects\\Covid19-Face-Mask-detection-main\\Dataset\\nomask\\                                                                                                                                                   114.jpg\n",
      "SAVED - https://encrypted-tbn0.gstatic.com/images?q=tbn:ANd9GcQq5NzcmcPCBS2IJIFCB0zUw3SC4NA76U8-6Q&usqp=CAU - AT: C:\\Users\\RANJAN_KESHRI\\Desktop\\MTECH\\DL\\Projects\\Covid19-Face-Mask-detection-main\\Dataset\\nomask\\                                                                                                                                                   115.jpg\n",
      "SAVED - https://encrypted-tbn0.gstatic.com/images?q=tbn:ANd9GcRVzcUGslfVPVqes4Z0oY0vaSifqQ626RLUAw&usqp=CAU - AT: C:\\Users\\RANJAN_KESHRI\\Desktop\\MTECH\\DL\\Projects\\Covid19-Face-Mask-detection-main\\Dataset\\nomask\\                                                                                                                                                   116.jpg\n",
      "SAVED - https://trak.in/wp-content/uploads/2020/12/5c93b4a4daa507033b17202a-1024x512-1280x720-1024x576.jpeg - AT: C:\\Users\\RANJAN_KESHRI\\Desktop\\MTECH\\DL\\Projects\\Covid19-Face-Mask-detection-main\\Dataset\\nomask\\                                                                                                                                                   117.jpg\n",
      "SAVED - https://encrypted-tbn0.gstatic.com/images?q=tbn:ANd9GcQpyz-OqHFC2XEA-ZZJY0GjTMlb1MRHrrVPsQ&usqp=CAU - AT: C:\\Users\\RANJAN_KESHRI\\Desktop\\MTECH\\DL\\Projects\\Covid19-Face-Mask-detection-main\\Dataset\\nomask\\                                                                                                                                                   118.jpg\n"
     ]
    },
    {
     "name": "stdout",
     "output_type": "stream",
     "text": [
      "SAVED - https://machinecurve.com/wp-content/uploads/2019/07/thispersondoesnotexist-1-1022x1024.jpg - AT: C:\\Users\\RANJAN_KESHRI\\Desktop\\MTECH\\DL\\Projects\\Covid19-Face-Mask-detection-main\\Dataset\\nomask\\                                                                                                                                                   119.jpg\n",
      "SAVED - https://image.cnbcfm.com/api/v1/image/106689818-1599150563582-musk.jpg?v=1620227840&w=1600&h=900 - AT: C:\\Users\\RANJAN_KESHRI\\Desktop\\MTECH\\DL\\Projects\\Covid19-Face-Mask-detection-main\\Dataset\\nomask\\                                                                                                                                                   120.jpg\n",
      "SAVED - https://encrypted-tbn0.gstatic.com/images?q=tbn:ANd9GcSPfonhnfG1jZc2m1_AeZL13feMIalfd2BX1g&usqp=CAU - AT: C:\\Users\\RANJAN_KESHRI\\Desktop\\MTECH\\DL\\Projects\\Covid19-Face-Mask-detection-main\\Dataset\\nomask\\                                                                                                                                                   121.jpg\n",
      "SAVED - https://encrypted-tbn0.gstatic.com/images?q=tbn:ANd9GcRQpnuxCTSEzxCbWwwtkFLT0R60I7thcZH-6w&usqp=CAU - AT: C:\\Users\\RANJAN_KESHRI\\Desktop\\MTECH\\DL\\Projects\\Covid19-Face-Mask-detection-main\\Dataset\\nomask\\                                                                                                                                                   122.jpg\n",
      "SAVED - https://encrypted-tbn0.gstatic.com/images?q=tbn:ANd9GcRo4zGSr25cTfr__JnNBlxju18g9geM7uir_g&usqp=CAU - AT: C:\\Users\\RANJAN_KESHRI\\Desktop\\MTECH\\DL\\Projects\\Covid19-Face-Mask-detection-main\\Dataset\\nomask\\                                                                                                                                                   123.jpg\n",
      "SAVED - https://resize.indiatvnews.com/en/resize/newbucket/1200_-/2020/12/asia-richest-person-1609401773.jpg - AT: C:\\Users\\RANJAN_KESHRI\\Desktop\\MTECH\\DL\\Projects\\Covid19-Face-Mask-detection-main\\Dataset\\nomask\\                                                                                                                                                   124.jpg\n",
      "SAVED - https://i0.wp.com/post.greatist.com/wp-content/uploads/sites/2/2020/08/GRT-couple-tic-tac-toe-1296x728-header.jpg?w=1155&h=1528 - AT: C:\\Users\\RANJAN_KESHRI\\Desktop\\MTECH\\DL\\Projects\\Covid19-Face-Mask-detection-main\\Dataset\\nomask\\                                                                                                                                                   125.jpg\n",
      "SAVED - https://encrypted-tbn0.gstatic.com/images?q=tbn:ANd9GcQdJEujGRJLwn0mXDhNlJBRImuGOGz3L02mZQ&usqp=CAU - AT: C:\\Users\\RANJAN_KESHRI\\Desktop\\MTECH\\DL\\Projects\\Covid19-Face-Mask-detection-main\\Dataset\\nomask\\                                                                                                                                                   126.jpg\n",
      "SAVED - https://www.grammar-monster.com/glossary/pics/third_person.png - AT: C:\\Users\\RANJAN_KESHRI\\Desktop\\MTECH\\DL\\Projects\\Covid19-Face-Mask-detection-main\\Dataset\\nomask\\                                                                                                                                                   127.jpg\n",
      "SAVED - https://encrypted-tbn0.gstatic.com/images?q=tbn:ANd9GcRFdHnAWO9jJw4djyn_xAxJP0_rJCo4qMQzDw&usqp=CAU - AT: C:\\Users\\RANJAN_KESHRI\\Desktop\\MTECH\\DL\\Projects\\Covid19-Face-Mask-detection-main\\Dataset\\nomask\\                                                                                                                                                   128.jpg\n",
      "SAVED - https://encrypted-tbn0.gstatic.com/images?q=tbn:ANd9GcSg9eQjjggIy8uqFNoUKtKAJyJtxb4_AfemVA&usqp=CAU - AT: C:\\Users\\RANJAN_KESHRI\\Desktop\\MTECH\\DL\\Projects\\Covid19-Face-Mask-detection-main\\Dataset\\nomask\\                                                                                                                                                   129.jpg\n",
      "SAVED - https://encrypted-tbn0.gstatic.com/images?q=tbn:ANd9GcRHoDRiyDy4oQfEW8BTcFIOLTnNxfP-BoEruA&usqp=CAU - AT: C:\\Users\\RANJAN_KESHRI\\Desktop\\MTECH\\DL\\Projects\\Covid19-Face-Mask-detection-main\\Dataset\\nomask\\                                                                                                                                                   130.jpg\n",
      "SAVED - https://encrypted-tbn0.gstatic.com/images?q=tbn:ANd9GcTajClwx0LhTrM8e6jvdc6hRwPRfIZ-lNlqIg&usqp=CAU - AT: C:\\Users\\RANJAN_KESHRI\\Desktop\\MTECH\\DL\\Projects\\Covid19-Face-Mask-detection-main\\Dataset\\nomask\\                                                                                                                                                   131.jpg\n",
      "SAVED - https://encrypted-tbn0.gstatic.com/images?q=tbn:ANd9GcTOc9VDs02ZrmIC7pS3WzBTvXl8UrI3jwAOVQ&usqp=CAU - AT: C:\\Users\\RANJAN_KESHRI\\Desktop\\MTECH\\DL\\Projects\\Covid19-Face-Mask-detection-main\\Dataset\\nomask\\                                                                                                                                                   132.jpg\n",
      "SAVED - https://encrypted-tbn0.gstatic.com/images?q=tbn:ANd9GcShYhoC4eTXBSlNBCwYZ7ZKgtCi3AEF0-po8Q&usqp=CAU - AT: C:\\Users\\RANJAN_KESHRI\\Desktop\\MTECH\\DL\\Projects\\Covid19-Face-Mask-detection-main\\Dataset\\nomask\\                                                                                                                                                   133.jpg\n",
      "SAVED - https://www.benenden.co.uk/media/7429/how-to-be-a-calmer-person.jpg?anchor=center&mode=crop&width=613&heightratio=0.6672104404567699836867862969&rnd=132586390520000000 - AT: C:\\Users\\RANJAN_KESHRI\\Desktop\\MTECH\\DL\\Projects\\Covid19-Face-Mask-detection-main\\Dataset\\nomask\\                                                                                                                                                   134.jpg\n",
      "SAVED - https://content.fortune.com/wp-content/uploads/2018/07/gettyimages-961697338.jpg - AT: C:\\Users\\RANJAN_KESHRI\\Desktop\\MTECH\\DL\\Projects\\Covid19-Face-Mask-detection-main\\Dataset\\nomask\\                                                                                                                                                   135.jpg\n",
      "SAVED - https://encrypted-tbn0.gstatic.com/images?q=tbn:ANd9GcRN1He-A6jxcBzIjUHvJdmp61tHshBfjpeixg&usqp=CAU - AT: C:\\Users\\RANJAN_KESHRI\\Desktop\\MTECH\\DL\\Projects\\Covid19-Face-Mask-detection-main\\Dataset\\nomask\\                                                                                                                                                   136.jpg\n",
      "SAVED - https://cdn.pixabay.com/photo/2014/07/09/10/04/man-388104_1280.jpg - AT: C:\\Users\\RANJAN_KESHRI\\Desktop\\MTECH\\DL\\Projects\\Covid19-Face-Mask-detection-main\\Dataset\\nomask\\                                                                                                                                                   137.jpg\n",
      "SAVED - https://assets.entrepreneur.com/content/3x2/2000/20180717194808-GettyImages-805012084.jpeg?width=700&crop=2:1 - AT: C:\\Users\\RANJAN_KESHRI\\Desktop\\MTECH\\DL\\Projects\\Covid19-Face-Mask-detection-main\\Dataset\\nomask\\                                                                                                                                                   138.jpg\n",
      "SAVED - https://static2.srcdn.com/wordpress/wp-content/uploads/2020/05/Person-of-Interest-Season-5-Finale.jpg - AT: C:\\Users\\RANJAN_KESHRI\\Desktop\\MTECH\\DL\\Projects\\Covid19-Face-Mask-detection-main\\Dataset\\nomask\\                                                                                                                                                   139.jpg\n",
      "SAVED - https://encrypted-tbn0.gstatic.com/images?q=tbn:ANd9GcQ5rxeMceKRHzUgy8DFjjk0D0JIXSMW5LBQeg&usqp=CAU - AT: C:\\Users\\RANJAN_KESHRI\\Desktop\\MTECH\\DL\\Projects\\Covid19-Face-Mask-detection-main\\Dataset\\nomask\\                                                                                                                                                   140.jpg\n",
      "SAVED - https://mk0qomafemocnned3wjh.kinstacdn.com/wp-content/uploads/2019/02/AI-thispersondoesnotexist.jpg - AT: C:\\Users\\RANJAN_KESHRI\\Desktop\\MTECH\\DL\\Projects\\Covid19-Face-Mask-detection-main\\Dataset\\nomask\\                                                                                                                                                   141.jpg\n"
     ]
    },
    {
     "name": "stdout",
     "output_type": "stream",
     "text": [
      "SAVED - https://www.glassdoor.com/blog/app/uploads/sites/2/why-are-you-the-best-person-for-this-job-724x450.jpg - AT: C:\\Users\\RANJAN_KESHRI\\Desktop\\MTECH\\DL\\Projects\\Covid19-Face-Mask-detection-main\\Dataset\\nomask\\                                                                                                                                                   142.jpg\n",
      "SAVED - https://www.dmarge.com/wp-content/uploads/2021/01/dwayne-the-rock-.jpg - AT: C:\\Users\\RANJAN_KESHRI\\Desktop\\MTECH\\DL\\Projects\\Covid19-Face-Mask-detection-main\\Dataset\\nomask\\                                                                                                                                                   143.jpg\n",
      "SAVED - https://assets.entrepreneur.com/content/3x2/2000/20170425212229-GettyImages-483241343.jpeg?width=700&crop=2:1 - AT: C:\\Users\\RANJAN_KESHRI\\Desktop\\MTECH\\DL\\Projects\\Covid19-Face-Mask-detection-main\\Dataset\\nomask\\                                                                                                                                                   144.jpg\n",
      "SAVED - https://bsmedia.business-standard.com/_media/bs/img/article/2020-11/18/full/1605681784-7704.jpg - AT: C:\\Users\\RANJAN_KESHRI\\Desktop\\MTECH\\DL\\Projects\\Covid19-Face-Mask-detection-main\\Dataset\\nomask\\                                                                                                                                                   145.jpg\n",
      "SAVED - https://encrypted-tbn0.gstatic.com/images?q=tbn:ANd9GcQJDHQZkRJzuxDR9E0YM-GOMDajnjTvLGdHGQ&usqp=CAU - AT: C:\\Users\\RANJAN_KESHRI\\Desktop\\MTECH\\DL\\Projects\\Covid19-Face-Mask-detection-main\\Dataset\\nomask\\                                                                                                                                                   146.jpg\n",
      "SAVED - https://upload.wikimedia.org/wikipedia/commons/thumb/b/bc/Unknown_person.jpg/1200px-Unknown_person.jpg - AT: C:\\Users\\RANJAN_KESHRI\\Desktop\\MTECH\\DL\\Projects\\Covid19-Face-Mask-detection-main\\Dataset\\nomask\\                                                                                                                                                   147.jpg\n",
      "SAVED - https://encrypted-tbn0.gstatic.com/images?q=tbn:ANd9GcSflF7vJ_UZZiUdyVCUsiYPmcJY9jsnIYEizg&usqp=CAU - AT: C:\\Users\\RANJAN_KESHRI\\Desktop\\MTECH\\DL\\Projects\\Covid19-Face-Mask-detection-main\\Dataset\\nomask\\                                                                                                                                                   148.jpg\n",
      "SAVED - https://encrypted-tbn0.gstatic.com/images?q=tbn:ANd9GcT_kcIiGCUdlQDi5AmeHqSu-8xomV24HzGYsQ&usqp=CAU - AT: C:\\Users\\RANJAN_KESHRI\\Desktop\\MTECH\\DL\\Projects\\Covid19-Face-Mask-detection-main\\Dataset\\nomask\\                                                                                                                                                   149.jpg\n",
      "SAVED - https://encrypted-tbn0.gstatic.com/images?q=tbn:ANd9GcSI01J4N_WgYjHBJ3m-Nr7paMzbrT4AC6gtkA&usqp=CAU - AT: C:\\Users\\RANJAN_KESHRI\\Desktop\\MTECH\\DL\\Projects\\Covid19-Face-Mask-detection-main\\Dataset\\nomask\\                                                                                                                                                   150.jpg\n",
      "SAVED - https://i1.wp.com/highlysensitiverefuge.com/wp-content/uploads/2018/08/what-is-highly-sensitive-person-meaning.jpg?resize=1150%2C701&ssl=1 - AT: C:\\Users\\RANJAN_KESHRI\\Desktop\\MTECH\\DL\\Projects\\Covid19-Face-Mask-detection-main\\Dataset\\nomask\\                                                                                                                                                   151.jpg\n",
      "SAVED - https://encrypted-tbn0.gstatic.com/images?q=tbn:ANd9GcTXJdWNZn8PKX_EV-wpe7jFe-YlSCakcX5p8A&usqp=CAU - AT: C:\\Users\\RANJAN_KESHRI\\Desktop\\MTECH\\DL\\Projects\\Covid19-Face-Mask-detection-main\\Dataset\\nomask\\                                                                                                                                                   152.jpg\n"
     ]
    }
   ],
   "source": [
    "for i, url in enumerate(img_urls):\n",
    "    file_name = f\"{i:150}.jpg\"    \n",
    "    try:\n",
    "        image_content = requests.get(url).content\n",
    "\n",
    "    except Exception as e:\n",
    "        print(f\"ERROR - COULD NOT DOWNLOAD {url} - {e}\")\n",
    "\n",
    "    try:\n",
    "        image_file = io.BytesIO(image_content)\n",
    "        image = Image.open(image_file).convert('RGB')\n",
    "        \n",
    "        file_path = os.path.join(baseDir, file_name)\n",
    "        \n",
    "        with open(file_path, 'wb') as f:\n",
    "            image.save(f, \"JPEG\", quality=85)\n",
    "        print(f\"SAVED - {url} - AT: {file_path}\")\n",
    "    except Exception as e:\n",
    "        print(f\"ERROR - COULD NOT SAVE {url} - {e}\")"
   ]
  }
 ],
 "metadata": {
  "kernelspec": {
   "display_name": "Python 3",
   "language": "python",
   "name": "python3"
  },
  "language_info": {
   "codemirror_mode": {
    "name": "ipython",
    "version": 3
   },
   "file_extension": ".py",
   "mimetype": "text/x-python",
   "name": "python",
   "nbconvert_exporter": "python",
   "pygments_lexer": "ipython3",
   "version": "3.8.3"
  }
 },
 "nbformat": 4,
 "nbformat_minor": 4
}
